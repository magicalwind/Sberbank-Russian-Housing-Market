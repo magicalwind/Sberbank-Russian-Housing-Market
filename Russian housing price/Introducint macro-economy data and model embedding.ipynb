{
 "cells": [
  {
   "cell_type": "code",
   "execution_count": 480,
   "metadata": {
    "collapsed": true
   },
   "outputs": [],
   "source": [
    "micro_humility_factor = 1.00   #    range from 0 (complete humility) to 1 (no humility)\n",
    "macro_humility_factor = 0.96\n",
    "jason_weight = .2\n",
    "bruno_weight = .2\n",
    "reynaldo_weight = 1 - jason_weight - bruno_weight"
   ]
  },
  {
   "cell_type": "code",
   "execution_count": 481,
   "metadata": {
    "collapsed": true
   },
   "outputs": [],
   "source": [
    "# Get ready for lots of annoying deprecation warnings\n",
    "import statsmodels.api as sm"
   ]
  },
  {
   "cell_type": "code",
   "execution_count": 482,
   "metadata": {
    "collapsed": true
   },
   "outputs": [],
   "source": [
    "import numpy as np\n",
    "import pandas as pd\n",
    "import matplotlib.pyplot as plt\n",
    "import seaborn as sns\n",
    "from sklearn import model_selection, preprocessing\n",
    "import xgboost as xgb\n",
    "import datetime\n",
    "import scipy as sp\n",
    "from sklearn.metrics import  make_scorer\n",
    "from sklearn.model_selection import cross_val_score\n",
    "from sklearn import metrics\n",
    "from sklearn.linear_model import LinearRegression\n",
    "import warnings\n",
    "warnings.filterwarnings('ignore')"
   ]
  },
  {
   "cell_type": "code",
   "execution_count": 483,
   "metadata": {
    "collapsed": false
   },
   "outputs": [],
   "source": [
    "macro = pd.read_csv('macro.csv')\n",
    "train_andy = pd.read_csv('train.csv')\n",
    "test_andy = pd.read_csv('test.csv')"
   ]
  },
  {
   "cell_type": "code",
   "execution_count": 484,
   "metadata": {
    "collapsed": false
   },
   "outputs": [],
   "source": [
    "bias_list_04 = np.loadtxt(\"bias_list_0.4\")"
   ]
  },
  {
   "cell_type": "code",
   "execution_count": 485,
   "metadata": {
    "collapsed": false
   },
   "outputs": [
    {
     "data": {
      "text/plain": [
       "array([ 8193, 24580, 24581, ...,  8174, 27306, 16382])"
      ]
     },
     "execution_count": 485,
     "metadata": {},
     "output_type": "execute_result"
    }
   ],
   "source": [
    "bias_list_04.astype(int)"
   ]
  },
  {
   "cell_type": "code",
   "execution_count": 486,
   "metadata": {
    "collapsed": false
   },
   "outputs": [
    {
     "data": {
      "text/plain": [
       "3362"
      ]
     },
     "execution_count": 486,
     "metadata": {},
     "output_type": "execute_result"
    }
   ],
   "source": [
    "len(bias_list_04)"
   ]
  },
  {
   "cell_type": "code",
   "execution_count": 487,
   "metadata": {
    "collapsed": true
   },
   "outputs": [],
   "source": [
    "macro[\"timestamp\"] = pd.to_datetime(macro[\"timestamp\"])"
   ]
  },
  {
   "cell_type": "code",
   "execution_count": 488,
   "metadata": {
    "collapsed": true
   },
   "outputs": [],
   "source": [
    "macro[\"year\"]  = macro[\"timestamp\"].dt.year\n",
    "macro[\"month\"] = macro[\"timestamp\"].dt.month\n",
    "macro[\"yearmonth\"] = 100*macro.year + macro.month"
   ]
  },
  {
   "cell_type": "code",
   "execution_count": 489,
   "metadata": {
    "collapsed": true
   },
   "outputs": [],
   "source": [
    "macmeds = macro.groupby(\"yearmonth\").median()"
   ]
  },
  {
   "cell_type": "code",
   "execution_count": null,
   "metadata": {
    "collapsed": false
   },
   "outputs": [],
   "source": []
  },
  {
   "cell_type": "code",
   "execution_count": null,
   "metadata": {
    "collapsed": false
   },
   "outputs": [],
   "source": []
  },
  {
   "cell_type": "code",
   "execution_count": 490,
   "metadata": {
    "collapsed": false
   },
   "outputs": [
    {
     "data": {
      "text/html": [
       "<div>\n",
       "<table border=\"1\" class=\"dataframe\">\n",
       "  <thead>\n",
       "    <tr style=\"text-align: right;\">\n",
       "      <th></th>\n",
       "      <th>oil_urals</th>\n",
       "      <th>gdp_quart</th>\n",
       "      <th>gdp_quart_growth</th>\n",
       "      <th>cpi</th>\n",
       "      <th>ppi</th>\n",
       "      <th>gdp_deflator</th>\n",
       "      <th>balance_trade</th>\n",
       "      <th>balance_trade_growth</th>\n",
       "      <th>usdrub</th>\n",
       "      <th>eurrub</th>\n",
       "      <th>...</th>\n",
       "      <th>theaters_viewers_per_1000_cap</th>\n",
       "      <th>seats_theather_rfmin_per_100000_cap</th>\n",
       "      <th>museum_visitis_per_100_cap</th>\n",
       "      <th>bandwidth_sports</th>\n",
       "      <th>population_reg_sports_share</th>\n",
       "      <th>students_reg_sports_share</th>\n",
       "      <th>apartment_build</th>\n",
       "      <th>apartment_fund_sqm</th>\n",
       "      <th>year</th>\n",
       "      <th>month</th>\n",
       "    </tr>\n",
       "    <tr>\n",
       "      <th>yearmonth</th>\n",
       "      <th></th>\n",
       "      <th></th>\n",
       "      <th></th>\n",
       "      <th></th>\n",
       "      <th></th>\n",
       "      <th></th>\n",
       "      <th></th>\n",
       "      <th></th>\n",
       "      <th></th>\n",
       "      <th></th>\n",
       "      <th></th>\n",
       "      <th></th>\n",
       "      <th></th>\n",
       "      <th></th>\n",
       "      <th></th>\n",
       "      <th></th>\n",
       "      <th></th>\n",
       "      <th></th>\n",
       "      <th></th>\n",
       "      <th></th>\n",
       "      <th></th>\n",
       "    </tr>\n",
       "  </thead>\n",
       "  <tbody>\n",
       "    <tr>\n",
       "      <th>201001</th>\n",
       "      <td>76.10</td>\n",
       "      <td>NaN</td>\n",
       "      <td>NaN</td>\n",
       "      <td>NaN</td>\n",
       "      <td>NaN</td>\n",
       "      <td>NaN</td>\n",
       "      <td>NaN</td>\n",
       "      <td>NaN</td>\n",
       "      <td>29.77500</td>\n",
       "      <td>42.5601</td>\n",
       "      <td>...</td>\n",
       "      <td>527.0</td>\n",
       "      <td>0.41</td>\n",
       "      <td>993.0</td>\n",
       "      <td>NaN</td>\n",
       "      <td>NaN</td>\n",
       "      <td>63.03</td>\n",
       "      <td>22825.0</td>\n",
       "      <td>NaN</td>\n",
       "      <td>2010</td>\n",
       "      <td>1</td>\n",
       "    </tr>\n",
       "    <tr>\n",
       "      <th>201002</th>\n",
       "      <td>72.97</td>\n",
       "      <td>NaN</td>\n",
       "      <td>NaN</td>\n",
       "      <td>315.1</td>\n",
       "      <td>337.2</td>\n",
       "      <td>NaN</td>\n",
       "      <td>18.114</td>\n",
       "      <td>NaN</td>\n",
       "      <td>30.11925</td>\n",
       "      <td>41.1596</td>\n",
       "      <td>...</td>\n",
       "      <td>527.0</td>\n",
       "      <td>0.41</td>\n",
       "      <td>993.0</td>\n",
       "      <td>NaN</td>\n",
       "      <td>NaN</td>\n",
       "      <td>63.03</td>\n",
       "      <td>22825.0</td>\n",
       "      <td>NaN</td>\n",
       "      <td>2010</td>\n",
       "      <td>2</td>\n",
       "    </tr>\n",
       "    <tr>\n",
       "      <th>201003</th>\n",
       "      <td>77.03</td>\n",
       "      <td>NaN</td>\n",
       "      <td>NaN</td>\n",
       "      <td>317.7</td>\n",
       "      <td>343.9</td>\n",
       "      <td>NaN</td>\n",
       "      <td>16.704</td>\n",
       "      <td>NaN</td>\n",
       "      <td>29.52680</td>\n",
       "      <td>40.2498</td>\n",
       "      <td>...</td>\n",
       "      <td>527.0</td>\n",
       "      <td>0.41</td>\n",
       "      <td>993.0</td>\n",
       "      <td>NaN</td>\n",
       "      <td>NaN</td>\n",
       "      <td>63.03</td>\n",
       "      <td>22825.0</td>\n",
       "      <td>NaN</td>\n",
       "      <td>2010</td>\n",
       "      <td>3</td>\n",
       "    </tr>\n",
       "    <tr>\n",
       "      <th>201004</th>\n",
       "      <td>82.87</td>\n",
       "      <td>9995.8</td>\n",
       "      <td>4.1</td>\n",
       "      <td>319.8</td>\n",
       "      <td>350.2</td>\n",
       "      <td>NaN</td>\n",
       "      <td>16.604</td>\n",
       "      <td>14.1</td>\n",
       "      <td>29.15250</td>\n",
       "      <td>39.2524</td>\n",
       "      <td>...</td>\n",
       "      <td>527.0</td>\n",
       "      <td>0.41</td>\n",
       "      <td>993.0</td>\n",
       "      <td>NaN</td>\n",
       "      <td>NaN</td>\n",
       "      <td>63.03</td>\n",
       "      <td>22825.0</td>\n",
       "      <td>NaN</td>\n",
       "      <td>2010</td>\n",
       "      <td>4</td>\n",
       "    </tr>\n",
       "    <tr>\n",
       "      <th>201005</th>\n",
       "      <td>73.05</td>\n",
       "      <td>9995.8</td>\n",
       "      <td>4.1</td>\n",
       "      <td>320.7</td>\n",
       "      <td>361.3</td>\n",
       "      <td>NaN</td>\n",
       "      <td>15.654</td>\n",
       "      <td>14.1</td>\n",
       "      <td>30.61500</td>\n",
       "      <td>38.4608</td>\n",
       "      <td>...</td>\n",
       "      <td>527.0</td>\n",
       "      <td>0.41</td>\n",
       "      <td>993.0</td>\n",
       "      <td>NaN</td>\n",
       "      <td>NaN</td>\n",
       "      <td>63.03</td>\n",
       "      <td>22825.0</td>\n",
       "      <td>NaN</td>\n",
       "      <td>2010</td>\n",
       "      <td>5</td>\n",
       "    </tr>\n",
       "  </tbody>\n",
       "</table>\n",
       "<p>5 rows × 98 columns</p>\n",
       "</div>"
      ],
      "text/plain": [
       "           oil_urals  gdp_quart  gdp_quart_growth    cpi    ppi  gdp_deflator  \\\n",
       "yearmonth                                                                       \n",
       "201001         76.10        NaN               NaN    NaN    NaN           NaN   \n",
       "201002         72.97        NaN               NaN  315.1  337.2           NaN   \n",
       "201003         77.03        NaN               NaN  317.7  343.9           NaN   \n",
       "201004         82.87     9995.8               4.1  319.8  350.2           NaN   \n",
       "201005         73.05     9995.8               4.1  320.7  361.3           NaN   \n",
       "\n",
       "           balance_trade  balance_trade_growth    usdrub   eurrub  ...    \\\n",
       "yearmonth                                                          ...     \n",
       "201001               NaN                   NaN  29.77500  42.5601  ...     \n",
       "201002            18.114                   NaN  30.11925  41.1596  ...     \n",
       "201003            16.704                   NaN  29.52680  40.2498  ...     \n",
       "201004            16.604                  14.1  29.15250  39.2524  ...     \n",
       "201005            15.654                  14.1  30.61500  38.4608  ...     \n",
       "\n",
       "           theaters_viewers_per_1000_cap  seats_theather_rfmin_per_100000_cap  \\\n",
       "yearmonth                                                                       \n",
       "201001                             527.0                                 0.41   \n",
       "201002                             527.0                                 0.41   \n",
       "201003                             527.0                                 0.41   \n",
       "201004                             527.0                                 0.41   \n",
       "201005                             527.0                                 0.41   \n",
       "\n",
       "           museum_visitis_per_100_cap  bandwidth_sports  \\\n",
       "yearmonth                                                 \n",
       "201001                          993.0               NaN   \n",
       "201002                          993.0               NaN   \n",
       "201003                          993.0               NaN   \n",
       "201004                          993.0               NaN   \n",
       "201005                          993.0               NaN   \n",
       "\n",
       "           population_reg_sports_share  students_reg_sports_share  \\\n",
       "yearmonth                                                           \n",
       "201001                             NaN                      63.03   \n",
       "201002                             NaN                      63.03   \n",
       "201003                             NaN                      63.03   \n",
       "201004                             NaN                      63.03   \n",
       "201005                             NaN                      63.03   \n",
       "\n",
       "           apartment_build  apartment_fund_sqm  year  month  \n",
       "yearmonth                                                    \n",
       "201001             22825.0                 NaN  2010      1  \n",
       "201002             22825.0                 NaN  2010      2  \n",
       "201003             22825.0                 NaN  2010      3  \n",
       "201004             22825.0                 NaN  2010      4  \n",
       "201005             22825.0                 NaN  2010      5  \n",
       "\n",
       "[5 rows x 98 columns]"
      ]
     },
     "execution_count": 490,
     "metadata": {},
     "output_type": "execute_result"
    }
   ],
   "source": [
    "macmeds.head()"
   ]
  },
  {
   "cell_type": "code",
   "execution_count": 491,
   "metadata": {
    "collapsed": false
   },
   "outputs": [
    {
     "data": {
      "text/plain": [
       "(82, 98)"
      ]
     },
     "execution_count": 491,
     "metadata": {},
     "output_type": "execute_result"
    }
   ],
   "source": [
    "macmeds.shape "
   ]
  },
  {
   "cell_type": "code",
   "execution_count": 492,
   "metadata": {
    "collapsed": true
   },
   "outputs": [],
   "source": [
    "train_andy[\"timestamp\"] = pd.to_datetime(train_andy[\"timestamp\"])\n",
    "train_andy[\"year\"]  = train_andy[\"timestamp\"].dt.year\n",
    "train_andy[\"month\"] = train_andy[\"timestamp\"].dt.month\n",
    "train_andy[\"yearmonth\"] = 100*train_andy.year + train_andy.month\n",
    "prices = train_andy[[\"yearmonth\",\"price_doc\"]]\n",
    "p = prices.groupby(\"yearmonth\").median()"
   ]
  },
  {
   "cell_type": "code",
   "execution_count": 493,
   "metadata": {
    "collapsed": false
   },
   "outputs": [
    {
     "data": {
      "text/html": [
       "<div>\n",
       "<table border=\"1\" class=\"dataframe\">\n",
       "  <thead>\n",
       "    <tr style=\"text-align: right;\">\n",
       "      <th></th>\n",
       "      <th>price_doc</th>\n",
       "    </tr>\n",
       "    <tr>\n",
       "      <th>yearmonth</th>\n",
       "      <th></th>\n",
       "    </tr>\n",
       "  </thead>\n",
       "  <tbody>\n",
       "    <tr>\n",
       "      <th>201108</th>\n",
       "      <td>5850000</td>\n",
       "    </tr>\n",
       "    <tr>\n",
       "      <th>201109</th>\n",
       "      <td>5200000</td>\n",
       "    </tr>\n",
       "    <tr>\n",
       "      <th>201110</th>\n",
       "      <td>5500000</td>\n",
       "    </tr>\n",
       "    <tr>\n",
       "      <th>201111</th>\n",
       "      <td>5600000</td>\n",
       "    </tr>\n",
       "    <tr>\n",
       "      <th>201112</th>\n",
       "      <td>5450000</td>\n",
       "    </tr>\n",
       "  </tbody>\n",
       "</table>\n",
       "</div>"
      ],
      "text/plain": [
       "           price_doc\n",
       "yearmonth           \n",
       "201108       5850000\n",
       "201109       5200000\n",
       "201110       5500000\n",
       "201111       5600000\n",
       "201112       5450000"
      ]
     },
     "execution_count": 493,
     "metadata": {},
     "output_type": "execute_result"
    }
   ],
   "source": [
    "p.head()"
   ]
  },
  {
   "cell_type": "code",
   "execution_count": 494,
   "metadata": {
    "collapsed": false
   },
   "outputs": [
    {
     "name": "stdout",
     "output_type": "stream",
     "text": [
      "(82, 99)\n"
     ]
    }
   ],
   "source": [
    "df = macmeds.join(p)\n",
    "print df.shape"
   ]
  },
  {
   "cell_type": "code",
   "execution_count": 495,
   "metadata": {
    "collapsed": false
   },
   "outputs": [
    {
     "data": {
      "text/html": [
       "<div>\n",
       "<table border=\"1\" class=\"dataframe\">\n",
       "  <thead>\n",
       "    <tr style=\"text-align: right;\">\n",
       "      <th></th>\n",
       "      <th>oil_urals</th>\n",
       "      <th>gdp_quart</th>\n",
       "      <th>gdp_quart_growth</th>\n",
       "      <th>cpi</th>\n",
       "      <th>ppi</th>\n",
       "      <th>gdp_deflator</th>\n",
       "      <th>balance_trade</th>\n",
       "      <th>balance_trade_growth</th>\n",
       "      <th>usdrub</th>\n",
       "      <th>eurrub</th>\n",
       "      <th>...</th>\n",
       "      <th>seats_theather_rfmin_per_100000_cap</th>\n",
       "      <th>museum_visitis_per_100_cap</th>\n",
       "      <th>bandwidth_sports</th>\n",
       "      <th>population_reg_sports_share</th>\n",
       "      <th>students_reg_sports_share</th>\n",
       "      <th>apartment_build</th>\n",
       "      <th>apartment_fund_sqm</th>\n",
       "      <th>year</th>\n",
       "      <th>month</th>\n",
       "      <th>price_doc</th>\n",
       "    </tr>\n",
       "    <tr>\n",
       "      <th>yearmonth</th>\n",
       "      <th></th>\n",
       "      <th></th>\n",
       "      <th></th>\n",
       "      <th></th>\n",
       "      <th></th>\n",
       "      <th></th>\n",
       "      <th></th>\n",
       "      <th></th>\n",
       "      <th></th>\n",
       "      <th></th>\n",
       "      <th></th>\n",
       "      <th></th>\n",
       "      <th></th>\n",
       "      <th></th>\n",
       "      <th></th>\n",
       "      <th></th>\n",
       "      <th></th>\n",
       "      <th></th>\n",
       "      <th></th>\n",
       "      <th></th>\n",
       "      <th></th>\n",
       "    </tr>\n",
       "  </thead>\n",
       "  <tbody>\n",
       "    <tr>\n",
       "      <th>201001</th>\n",
       "      <td>76.10</td>\n",
       "      <td>NaN</td>\n",
       "      <td>NaN</td>\n",
       "      <td>NaN</td>\n",
       "      <td>NaN</td>\n",
       "      <td>NaN</td>\n",
       "      <td>NaN</td>\n",
       "      <td>NaN</td>\n",
       "      <td>29.77500</td>\n",
       "      <td>42.5601</td>\n",
       "      <td>...</td>\n",
       "      <td>0.41</td>\n",
       "      <td>993.0</td>\n",
       "      <td>NaN</td>\n",
       "      <td>NaN</td>\n",
       "      <td>63.03</td>\n",
       "      <td>22825.0</td>\n",
       "      <td>NaN</td>\n",
       "      <td>2010</td>\n",
       "      <td>1</td>\n",
       "      <td>NaN</td>\n",
       "    </tr>\n",
       "    <tr>\n",
       "      <th>201002</th>\n",
       "      <td>72.97</td>\n",
       "      <td>NaN</td>\n",
       "      <td>NaN</td>\n",
       "      <td>315.1</td>\n",
       "      <td>337.2</td>\n",
       "      <td>NaN</td>\n",
       "      <td>18.114</td>\n",
       "      <td>NaN</td>\n",
       "      <td>30.11925</td>\n",
       "      <td>41.1596</td>\n",
       "      <td>...</td>\n",
       "      <td>0.41</td>\n",
       "      <td>993.0</td>\n",
       "      <td>NaN</td>\n",
       "      <td>NaN</td>\n",
       "      <td>63.03</td>\n",
       "      <td>22825.0</td>\n",
       "      <td>NaN</td>\n",
       "      <td>2010</td>\n",
       "      <td>2</td>\n",
       "      <td>NaN</td>\n",
       "    </tr>\n",
       "    <tr>\n",
       "      <th>201003</th>\n",
       "      <td>77.03</td>\n",
       "      <td>NaN</td>\n",
       "      <td>NaN</td>\n",
       "      <td>317.7</td>\n",
       "      <td>343.9</td>\n",
       "      <td>NaN</td>\n",
       "      <td>16.704</td>\n",
       "      <td>NaN</td>\n",
       "      <td>29.52680</td>\n",
       "      <td>40.2498</td>\n",
       "      <td>...</td>\n",
       "      <td>0.41</td>\n",
       "      <td>993.0</td>\n",
       "      <td>NaN</td>\n",
       "      <td>NaN</td>\n",
       "      <td>63.03</td>\n",
       "      <td>22825.0</td>\n",
       "      <td>NaN</td>\n",
       "      <td>2010</td>\n",
       "      <td>3</td>\n",
       "      <td>NaN</td>\n",
       "    </tr>\n",
       "    <tr>\n",
       "      <th>201004</th>\n",
       "      <td>82.87</td>\n",
       "      <td>9995.8</td>\n",
       "      <td>4.1</td>\n",
       "      <td>319.8</td>\n",
       "      <td>350.2</td>\n",
       "      <td>NaN</td>\n",
       "      <td>16.604</td>\n",
       "      <td>14.1</td>\n",
       "      <td>29.15250</td>\n",
       "      <td>39.2524</td>\n",
       "      <td>...</td>\n",
       "      <td>0.41</td>\n",
       "      <td>993.0</td>\n",
       "      <td>NaN</td>\n",
       "      <td>NaN</td>\n",
       "      <td>63.03</td>\n",
       "      <td>22825.0</td>\n",
       "      <td>NaN</td>\n",
       "      <td>2010</td>\n",
       "      <td>4</td>\n",
       "      <td>NaN</td>\n",
       "    </tr>\n",
       "    <tr>\n",
       "      <th>201005</th>\n",
       "      <td>73.05</td>\n",
       "      <td>9995.8</td>\n",
       "      <td>4.1</td>\n",
       "      <td>320.7</td>\n",
       "      <td>361.3</td>\n",
       "      <td>NaN</td>\n",
       "      <td>15.654</td>\n",
       "      <td>14.1</td>\n",
       "      <td>30.61500</td>\n",
       "      <td>38.4608</td>\n",
       "      <td>...</td>\n",
       "      <td>0.41</td>\n",
       "      <td>993.0</td>\n",
       "      <td>NaN</td>\n",
       "      <td>NaN</td>\n",
       "      <td>63.03</td>\n",
       "      <td>22825.0</td>\n",
       "      <td>NaN</td>\n",
       "      <td>2010</td>\n",
       "      <td>5</td>\n",
       "      <td>NaN</td>\n",
       "    </tr>\n",
       "  </tbody>\n",
       "</table>\n",
       "<p>5 rows × 99 columns</p>\n",
       "</div>"
      ],
      "text/plain": [
       "           oil_urals  gdp_quart  gdp_quart_growth    cpi    ppi  gdp_deflator  \\\n",
       "yearmonth                                                                       \n",
       "201001         76.10        NaN               NaN    NaN    NaN           NaN   \n",
       "201002         72.97        NaN               NaN  315.1  337.2           NaN   \n",
       "201003         77.03        NaN               NaN  317.7  343.9           NaN   \n",
       "201004         82.87     9995.8               4.1  319.8  350.2           NaN   \n",
       "201005         73.05     9995.8               4.1  320.7  361.3           NaN   \n",
       "\n",
       "           balance_trade  balance_trade_growth    usdrub   eurrub    ...      \\\n",
       "yearmonth                                                            ...       \n",
       "201001               NaN                   NaN  29.77500  42.5601    ...       \n",
       "201002            18.114                   NaN  30.11925  41.1596    ...       \n",
       "201003            16.704                   NaN  29.52680  40.2498    ...       \n",
       "201004            16.604                  14.1  29.15250  39.2524    ...       \n",
       "201005            15.654                  14.1  30.61500  38.4608    ...       \n",
       "\n",
       "           seats_theather_rfmin_per_100000_cap  museum_visitis_per_100_cap  \\\n",
       "yearmonth                                                                    \n",
       "201001                                    0.41                       993.0   \n",
       "201002                                    0.41                       993.0   \n",
       "201003                                    0.41                       993.0   \n",
       "201004                                    0.41                       993.0   \n",
       "201005                                    0.41                       993.0   \n",
       "\n",
       "           bandwidth_sports  population_reg_sports_share  \\\n",
       "yearmonth                                                  \n",
       "201001                  NaN                          NaN   \n",
       "201002                  NaN                          NaN   \n",
       "201003                  NaN                          NaN   \n",
       "201004                  NaN                          NaN   \n",
       "201005                  NaN                          NaN   \n",
       "\n",
       "           students_reg_sports_share  apartment_build  apartment_fund_sqm  \\\n",
       "yearmonth                                                                   \n",
       "201001                         63.03          22825.0                 NaN   \n",
       "201002                         63.03          22825.0                 NaN   \n",
       "201003                         63.03          22825.0                 NaN   \n",
       "201004                         63.03          22825.0                 NaN   \n",
       "201005                         63.03          22825.0                 NaN   \n",
       "\n",
       "           year  month  price_doc  \n",
       "yearmonth                          \n",
       "201001     2010      1        NaN  \n",
       "201002     2010      2        NaN  \n",
       "201003     2010      3        NaN  \n",
       "201004     2010      4        NaN  \n",
       "201005     2010      5        NaN  \n",
       "\n",
       "[5 rows x 99 columns]"
      ]
     },
     "execution_count": 495,
     "metadata": {},
     "output_type": "execute_result"
    }
   ],
   "source": [
    "df.head()\n"
   ]
  },
  {
   "cell_type": "code",
   "execution_count": 496,
   "metadata": {
    "collapsed": false
   },
   "outputs": [],
   "source": [
    "import numpy.matlib as ml\n",
    " \n",
    "def almonZmatrix(X, maxlag, maxdeg):\n",
    "    \"\"\"\n",
    "    Creates the Z matrix corresponding to vector X.\n",
    "    \"\"\"\n",
    "    n = len(X)\n",
    "    Z = ml.zeros((len(X)-maxlag, maxdeg+1))\n",
    "    for t in range(maxlag,  n):\n",
    "       #Solve for Z[t][0].\n",
    "       Z[t-maxlag,0] = sum([X[t-lag] for lag in range(maxlag+1)])\n",
    "       for j in range(1, maxdeg+1):\n",
    "             s = 0.0\n",
    "             for i in range(1, maxlag+1):       \n",
    "                s += (i)**j * X[t-i]\n",
    "             Z[t-maxlag,j] = s\n",
    "    return Z\n",
    "# len(X)-maxlag because the first n(maxlag) value cannot be calculated for lacking of data"
   ]
  },
  {
   "cell_type": "code",
   "execution_count": 497,
   "metadata": {
    "collapsed": false
   },
   "outputs": [],
   "source": [
    "y = df.price_doc.div(df.cpi).apply(np.log).loc[201108:201506]"
   ]
  },
  {
   "cell_type": "code",
   "execution_count": 498,
   "metadata": {
    "collapsed": false
   },
   "outputs": [
    {
     "data": {
      "text/plain": [
       "Int64Index([201108, 201109, 201110, 201111, 201112, 201201, 201202, 201203,\n",
       "            201204, 201205, 201206, 201207, 201208, 201209, 201210, 201211,\n",
       "            201212, 201301, 201302, 201303, 201304, 201305, 201306, 201307,\n",
       "            201308, 201309, 201310, 201311, 201312, 201401, 201402, 201403,\n",
       "            201404, 201405, 201406, 201407, 201408, 201409, 201410, 201411,\n",
       "            201412, 201501, 201502, 201503, 201504, 201505, 201506],\n",
       "           dtype='int64', name=u'yearmonth')"
      ]
     },
     "execution_count": 498,
     "metadata": {},
     "output_type": "execute_result"
    }
   ],
   "source": [
    "y.index"
   ]
  },
  {
   "cell_type": "code",
   "execution_count": null,
   "metadata": {
    "collapsed": false
   },
   "outputs": [],
   "source": []
  },
  {
   "cell_type": "code",
   "execution_count": 499,
   "metadata": {
    "collapsed": false
   },
   "outputs": [
    {
     "name": "stdout",
     "output_type": "stream",
     "text": [
      "(47, 2) (47, 2) (47, 2) (47, 2)\n"
     ]
    }
   ],
   "source": [
    "lncpi = df.cpi.apply(np.log)\n",
    "tblags = 5    # Number of lags used on PDL for Trade Balance\n",
    "mrlags = 5    # Number of lags used on PDL for Mortgage Rate\n",
    "cplags = 5    # Number of lags used on PDL for CPI\n",
    "gplags = 5\n",
    "ztb = almonZmatrix(df.balance_trade.loc[201103:201506].as_matrix(), tblags, 1)\n",
    "zmr = almonZmatrix(df.mortgage_rate.loc[201103:201506].as_matrix(), mrlags, 1)\n",
    "zcp = almonZmatrix(lncpi.loc[201103:201506].as_matrix(), cplags, 1)\n",
    "zgp = almonZmatrix(df.gdp_quart_growth.loc[201103:201506].as_matrix(), gplags, 1)\n",
    "print np.shape(ztb), np.shape(zmr), np.shape(zcp), np.shape(zgp)\n",
    "columns = ['tb0', 'tb1', 'mr0', 'mr1', 'cp0', 'cp1','gp0','gp1']\n"
   ]
  },
  {
   "cell_type": "code",
   "execution_count": null,
   "metadata": {
    "collapsed": false
   },
   "outputs": [],
   "source": []
  },
  {
   "cell_type": "code",
   "execution_count": 500,
   "metadata": {
    "collapsed": false
   },
   "outputs": [],
   "source": [
    "z = pd.DataFrame( np.concatenate( (ztb, zmr, zcp,zgp), axis=1), index=y.index.values, columns=columns )"
   ]
  },
  {
   "cell_type": "code",
   "execution_count": 501,
   "metadata": {
    "collapsed": false
   },
   "outputs": [
    {
     "data": {
      "text/html": [
       "<div>\n",
       "<table border=\"1\" class=\"dataframe\">\n",
       "  <thead>\n",
       "    <tr style=\"text-align: right;\">\n",
       "      <th></th>\n",
       "      <th>tb0</th>\n",
       "      <th>tb1</th>\n",
       "      <th>mr0</th>\n",
       "      <th>mr1</th>\n",
       "      <th>cp0</th>\n",
       "      <th>cp1</th>\n",
       "      <th>gp0</th>\n",
       "      <th>gp1</th>\n",
       "    </tr>\n",
       "  </thead>\n",
       "  <tbody>\n",
       "    <tr>\n",
       "      <th>201108</th>\n",
       "      <td>104.098</td>\n",
       "      <td>268.575</td>\n",
       "      <td>73.01</td>\n",
       "      <td>184.40</td>\n",
       "      <td>35.177686</td>\n",
       "      <td>87.881303</td>\n",
       "      <td>21.6</td>\n",
       "      <td>58.5</td>\n",
       "    </tr>\n",
       "    <tr>\n",
       "      <th>201109</th>\n",
       "      <td>101.103</td>\n",
       "      <td>262.387</td>\n",
       "      <td>72.50</td>\n",
       "      <td>182.83</td>\n",
       "      <td>35.192806</td>\n",
       "      <td>87.947499</td>\n",
       "      <td>19.8</td>\n",
       "      <td>49.5</td>\n",
       "    </tr>\n",
       "    <tr>\n",
       "      <th>201110</th>\n",
       "      <td>101.265</td>\n",
       "      <td>261.268</td>\n",
       "      <td>71.70</td>\n",
       "      <td>181.11</td>\n",
       "      <td>35.201341</td>\n",
       "      <td>87.992705</td>\n",
       "      <td>21.5</td>\n",
       "      <td>49.5</td>\n",
       "    </tr>\n",
       "    <tr>\n",
       "      <th>201111</th>\n",
       "      <td>99.624</td>\n",
       "      <td>246.913</td>\n",
       "      <td>71.32</td>\n",
       "      <td>180.09</td>\n",
       "      <td>35.210403</td>\n",
       "      <td>88.020788</td>\n",
       "      <td>23.2</td>\n",
       "      <td>51.2</td>\n",
       "    </tr>\n",
       "    <tr>\n",
       "      <th>201112</th>\n",
       "      <td>101.929</td>\n",
       "      <td>245.971</td>\n",
       "      <td>70.56</td>\n",
       "      <td>178.45</td>\n",
       "      <td>35.218861</td>\n",
       "      <td>88.028984</td>\n",
       "      <td>24.9</td>\n",
       "      <td>54.6</td>\n",
       "    </tr>\n",
       "  </tbody>\n",
       "</table>\n",
       "</div>"
      ],
      "text/plain": [
       "            tb0      tb1    mr0     mr1        cp0        cp1   gp0   gp1\n",
       "201108  104.098  268.575  73.01  184.40  35.177686  87.881303  21.6  58.5\n",
       "201109  101.103  262.387  72.50  182.83  35.192806  87.947499  19.8  49.5\n",
       "201110  101.265  261.268  71.70  181.11  35.201341  87.992705  21.5  49.5\n",
       "201111   99.624  246.913  71.32  180.09  35.210403  88.020788  23.2  51.2\n",
       "201112  101.929  245.971  70.56  178.45  35.218861  88.028984  24.9  54.6"
      ]
     },
     "execution_count": 501,
     "metadata": {},
     "output_type": "execute_result"
    }
   ],
   "source": [
    "z.head()"
   ]
  },
  {
   "cell_type": "code",
   "execution_count": 502,
   "metadata": {
    "collapsed": true
   },
   "outputs": [],
   "source": [
    "X = sm.add_constant( z ) # add a column of constant"
   ]
  },
  {
   "cell_type": "code",
   "execution_count": 503,
   "metadata": {
    "collapsed": false
   },
   "outputs": [
    {
     "name": "stdout",
     "output_type": "stream",
     "text": [
      "(47, 9) (47,)\n"
     ]
    }
   ],
   "source": [
    "print X.shape, y.shape"
   ]
  },
  {
   "cell_type": "code",
   "execution_count": 504,
   "metadata": {
    "collapsed": false
   },
   "outputs": [
    {
     "data": {
      "text/html": [
       "<div>\n",
       "<table border=\"1\" class=\"dataframe\">\n",
       "  <thead>\n",
       "    <tr style=\"text-align: right;\">\n",
       "      <th></th>\n",
       "      <th>const</th>\n",
       "      <th>tb0</th>\n",
       "      <th>tb1</th>\n",
       "      <th>mr0</th>\n",
       "      <th>mr1</th>\n",
       "      <th>cp0</th>\n",
       "      <th>cp1</th>\n",
       "      <th>gp0</th>\n",
       "      <th>gp1</th>\n",
       "    </tr>\n",
       "  </thead>\n",
       "  <tbody>\n",
       "    <tr>\n",
       "      <th>201108</th>\n",
       "      <td>1</td>\n",
       "      <td>104.098</td>\n",
       "      <td>268.575</td>\n",
       "      <td>73.01</td>\n",
       "      <td>184.40</td>\n",
       "      <td>35.177686</td>\n",
       "      <td>87.881303</td>\n",
       "      <td>21.6</td>\n",
       "      <td>58.5</td>\n",
       "    </tr>\n",
       "    <tr>\n",
       "      <th>201109</th>\n",
       "      <td>1</td>\n",
       "      <td>101.103</td>\n",
       "      <td>262.387</td>\n",
       "      <td>72.50</td>\n",
       "      <td>182.83</td>\n",
       "      <td>35.192806</td>\n",
       "      <td>87.947499</td>\n",
       "      <td>19.8</td>\n",
       "      <td>49.5</td>\n",
       "    </tr>\n",
       "    <tr>\n",
       "      <th>201110</th>\n",
       "      <td>1</td>\n",
       "      <td>101.265</td>\n",
       "      <td>261.268</td>\n",
       "      <td>71.70</td>\n",
       "      <td>181.11</td>\n",
       "      <td>35.201341</td>\n",
       "      <td>87.992705</td>\n",
       "      <td>21.5</td>\n",
       "      <td>49.5</td>\n",
       "    </tr>\n",
       "    <tr>\n",
       "      <th>201111</th>\n",
       "      <td>1</td>\n",
       "      <td>99.624</td>\n",
       "      <td>246.913</td>\n",
       "      <td>71.32</td>\n",
       "      <td>180.09</td>\n",
       "      <td>35.210403</td>\n",
       "      <td>88.020788</td>\n",
       "      <td>23.2</td>\n",
       "      <td>51.2</td>\n",
       "    </tr>\n",
       "    <tr>\n",
       "      <th>201112</th>\n",
       "      <td>1</td>\n",
       "      <td>101.929</td>\n",
       "      <td>245.971</td>\n",
       "      <td>70.56</td>\n",
       "      <td>178.45</td>\n",
       "      <td>35.218861</td>\n",
       "      <td>88.028984</td>\n",
       "      <td>24.9</td>\n",
       "      <td>54.6</td>\n",
       "    </tr>\n",
       "  </tbody>\n",
       "</table>\n",
       "</div>"
      ],
      "text/plain": [
       "        const      tb0      tb1    mr0     mr1        cp0        cp1   gp0  \\\n",
       "201108      1  104.098  268.575  73.01  184.40  35.177686  87.881303  21.6   \n",
       "201109      1  101.103  262.387  72.50  182.83  35.192806  87.947499  19.8   \n",
       "201110      1  101.265  261.268  71.70  181.11  35.201341  87.992705  21.5   \n",
       "201111      1   99.624  246.913  71.32  180.09  35.210403  88.020788  23.2   \n",
       "201112      1  101.929  245.971  70.56  178.45  35.218861  88.028984  24.9   \n",
       "\n",
       "         gp1  \n",
       "201108  58.5  \n",
       "201109  49.5  \n",
       "201110  49.5  \n",
       "201111  51.2  \n",
       "201112  54.6  "
      ]
     },
     "execution_count": 504,
     "metadata": {},
     "output_type": "execute_result"
    }
   ],
   "source": [
    "X.head()"
   ]
  },
  {
   "cell_type": "code",
   "execution_count": 505,
   "metadata": {
    "collapsed": true
   },
   "outputs": [],
   "source": [
    "# Fit macro model\n",
    "eq = sm.OLS(y, X)\n",
    "fit = eq.fit()"
   ]
  },
  {
   "cell_type": "code",
   "execution_count": 506,
   "metadata": {
    "collapsed": false
   },
   "outputs": [
    {
     "data": {
      "text/plain": [
       "const    8.202810\n",
       "tb0      0.005664\n",
       "tb1     -0.000099\n",
       "mr0      0.003810\n",
       "mr1      0.001415\n",
       "cp0      0.405604\n",
       "cp1     -0.159009\n",
       "gp0      0.020657\n",
       "gp1     -0.007527\n",
       "dtype: float64"
      ]
     },
     "execution_count": 506,
     "metadata": {},
     "output_type": "execute_result"
    }
   ],
   "source": [
    "fit.params"
   ]
  },
  {
   "cell_type": "code",
   "execution_count": 507,
   "metadata": {
    "collapsed": false
   },
   "outputs": [
    {
     "data": {
      "text/plain": [
       "(82, 98)"
      ]
     },
     "execution_count": 507,
     "metadata": {},
     "output_type": "execute_result"
    }
   ],
   "source": [
    "macmeds.shape"
   ]
  },
  {
   "cell_type": "code",
   "execution_count": 508,
   "metadata": {
    "collapsed": false
   },
   "outputs": [
    {
     "data": {
      "text/plain": [
       "count    4.700000e+01\n",
       "mean     6.136794e+06\n",
       "std      6.065852e+05\n",
       "min      4.975100e+06\n",
       "25%      5.649640e+06\n",
       "50%      6.100000e+06\n",
       "75%      6.540318e+06\n",
       "max      7.300000e+06\n",
       "Name: price_doc, dtype: float64"
      ]
     },
     "execution_count": 508,
     "metadata": {},
     "output_type": "execute_result"
    }
   ],
   "source": [
    "df.price_doc.describe()"
   ]
  },
  {
   "cell_type": "code",
   "execution_count": 509,
   "metadata": {
    "collapsed": false
   },
   "outputs": [
    {
     "data": {
      "text/plain": [
       "count     81.000000\n",
       "mean     408.311111\n",
       "std       66.677178\n",
       "min      315.100000\n",
       "25%      354.000000\n",
       "50%      393.000000\n",
       "75%      469.400000\n",
       "max      531.000000\n",
       "Name: cpi, dtype: float64"
      ]
     },
     "execution_count": 509,
     "metadata": {},
     "output_type": "execute_result"
    }
   ],
   "source": [
    "df.cpi.describe()"
   ]
  },
  {
   "cell_type": "code",
   "execution_count": 510,
   "metadata": {
    "collapsed": false
   },
   "outputs": [
    {
     "data": {
      "text/plain": [
       "yearmonth\n",
       "201001   NaN\n",
       "Name: cpi, dtype: float64"
      ]
     },
     "execution_count": 510,
     "metadata": {},
     "output_type": "execute_result"
    }
   ],
   "source": [
    "df.cpi.loc[pd.isnull(df.cpi)]"
   ]
  },
  {
   "cell_type": "code",
   "execution_count": 511,
   "metadata": {
    "collapsed": false
   },
   "outputs": [],
   "source": [
    "# Predict with macro model\n",
    "test_Jason_andy_cpi = df.cpi.loc[201507:201605]\n",
    "test_Jason_andy_index = test_Jason_andy_cpi.index\n",
    "ztb_test_Jason_andy = almonZmatrix(df.balance_trade.loc[201502:201605].as_matrix(), tblags, 1)\n",
    "zmr_test_Jason_andy = almonZmatrix(df.mortgage_rate.loc[201502:201605].as_matrix(), mrlags, 1)\n",
    "zcp_test_Jason_andy = almonZmatrix(lncpi.loc[201502:201605].as_matrix(), cplags, 1)\n",
    "zgp_test_Jason_andy = almonZmatrix(df.gdp_quart_growth.loc[201502:201605].as_matrix(), gplags, 1)\n",
    "z_test_Jason_andy = pd.DataFrame( np.concatenate( (ztb_test_Jason_andy, zmr_test_Jason_andy, zcp_test_Jason_andy, zgp_test_Jason_andy), axis=1), \n",
    "                       test_Jason_andy_index, columns )\n",
    "X_test_Jason_andy = sm.add_constant( z_test_Jason_andy )\n",
    "pred_lnrp = fit.predict( X_test_Jason_andy )\n",
    "pred_p = np.exp(pred_lnrp) * test_Jason_andy_cpi\n"
   ]
  },
  {
   "cell_type": "code",
   "execution_count": 512,
   "metadata": {
    "collapsed": false
   },
   "outputs": [],
   "source": [
    "test_andy[\"timestamp\"] = pd.to_datetime(test_andy[\"timestamp\"])\n",
    "test_andy[\"year\"]  = test_andy[\"timestamp\"].dt.year\n",
    "test_andy[\"month\"] = test_andy[\"timestamp\"].dt.month\n",
    "test_andy[\"yearmonth\"] = 100*test_andy.year + test_andy.month\n",
    "test_andy_ids = test_andy[[\"yearmonth\",\"id\"]]"
   ]
  },
  {
   "cell_type": "code",
   "execution_count": 513,
   "metadata": {
    "collapsed": false
   },
   "outputs": [
    {
     "name": "stdout",
     "output_type": "stream",
     "text": [
      "(7662, 294) (7662, 2)\n"
     ]
    }
   ],
   "source": [
    "print test_andy.shape, test_andy_ids.shape"
   ]
  },
  {
   "cell_type": "code",
   "execution_count": 514,
   "metadata": {
    "collapsed": true
   },
   "outputs": [],
   "source": [
    "monthprices = pd.DataFrame({\"yearmonth\":pred_p.index.values,\"monthprice\":pred_p.values})"
   ]
  },
  {
   "cell_type": "code",
   "execution_count": 515,
   "metadata": {
    "collapsed": false
   },
   "outputs": [
    {
     "data": {
      "text/plain": [
       "(11,)"
      ]
     },
     "execution_count": 515,
     "metadata": {},
     "output_type": "execute_result"
    }
   ],
   "source": [
    "test_andy.yearmonth.value_counts().shape"
   ]
  },
  {
   "cell_type": "code",
   "execution_count": 516,
   "metadata": {
    "collapsed": false
   },
   "outputs": [
    {
     "data": {
      "text/plain": [
       "(11,)"
      ]
     },
     "execution_count": 516,
     "metadata": {},
     "output_type": "execute_result"
    }
   ],
   "source": [
    "pred_p.shape"
   ]
  },
  {
   "cell_type": "code",
   "execution_count": 517,
   "metadata": {
    "collapsed": true
   },
   "outputs": [],
   "source": [
    "monthprices = pd.DataFrame({\"yearmonth\":pred_p.index.values,\"monthprice\":pred_p.values})"
   ]
  },
  {
   "cell_type": "code",
   "execution_count": 518,
   "metadata": {
    "collapsed": false
   },
   "outputs": [
    {
     "data": {
      "text/html": [
       "<div>\n",
       "<table border=\"1\" class=\"dataframe\">\n",
       "  <thead>\n",
       "    <tr style=\"text-align: right;\">\n",
       "      <th></th>\n",
       "      <th>monthprice</th>\n",
       "      <th>yearmonth</th>\n",
       "    </tr>\n",
       "  </thead>\n",
       "  <tbody>\n",
       "    <tr>\n",
       "      <th>0</th>\n",
       "      <td>6.654299e+06</td>\n",
       "      <td>201507</td>\n",
       "    </tr>\n",
       "    <tr>\n",
       "      <th>1</th>\n",
       "      <td>6.485781e+06</td>\n",
       "      <td>201508</td>\n",
       "    </tr>\n",
       "    <tr>\n",
       "      <th>2</th>\n",
       "      <td>6.515985e+06</td>\n",
       "      <td>201509</td>\n",
       "    </tr>\n",
       "    <tr>\n",
       "      <th>3</th>\n",
       "      <td>6.377009e+06</td>\n",
       "      <td>201510</td>\n",
       "    </tr>\n",
       "    <tr>\n",
       "      <th>4</th>\n",
       "      <td>6.395836e+06</td>\n",
       "      <td>201511</td>\n",
       "    </tr>\n",
       "  </tbody>\n",
       "</table>\n",
       "</div>"
      ],
      "text/plain": [
       "     monthprice  yearmonth\n",
       "0  6.654299e+06     201507\n",
       "1  6.485781e+06     201508\n",
       "2  6.515985e+06     201509\n",
       "3  6.377009e+06     201510\n",
       "4  6.395836e+06     201511"
      ]
     },
     "execution_count": 518,
     "metadata": {},
     "output_type": "execute_result"
    }
   ],
   "source": [
    "monthprices.head()"
   ]
  },
  {
   "cell_type": "code",
   "execution_count": 519,
   "metadata": {
    "collapsed": true
   },
   "outputs": [],
   "source": [
    "test_andy_mac_price = test_andy_ids.merge(monthprices, on=\"yearmonth\")"
   ]
  },
  {
   "cell_type": "code",
   "execution_count": 520,
   "metadata": {
    "collapsed": false
   },
   "outputs": [
    {
     "data": {
      "text/html": [
       "<div>\n",
       "<table border=\"1\" class=\"dataframe\">\n",
       "  <thead>\n",
       "    <tr style=\"text-align: right;\">\n",
       "      <th></th>\n",
       "      <th>yearmonth</th>\n",
       "      <th>id</th>\n",
       "      <th>monthprice</th>\n",
       "    </tr>\n",
       "  </thead>\n",
       "  <tbody>\n",
       "    <tr>\n",
       "      <th>0</th>\n",
       "      <td>201507</td>\n",
       "      <td>30474</td>\n",
       "      <td>6.654299e+06</td>\n",
       "    </tr>\n",
       "    <tr>\n",
       "      <th>1</th>\n",
       "      <td>201507</td>\n",
       "      <td>30475</td>\n",
       "      <td>6.654299e+06</td>\n",
       "    </tr>\n",
       "    <tr>\n",
       "      <th>2</th>\n",
       "      <td>201507</td>\n",
       "      <td>30476</td>\n",
       "      <td>6.654299e+06</td>\n",
       "    </tr>\n",
       "    <tr>\n",
       "      <th>3</th>\n",
       "      <td>201507</td>\n",
       "      <td>30477</td>\n",
       "      <td>6.654299e+06</td>\n",
       "    </tr>\n",
       "    <tr>\n",
       "      <th>4</th>\n",
       "      <td>201507</td>\n",
       "      <td>30478</td>\n",
       "      <td>6.654299e+06</td>\n",
       "    </tr>\n",
       "  </tbody>\n",
       "</table>\n",
       "</div>"
      ],
      "text/plain": [
       "   yearmonth     id    monthprice\n",
       "0     201507  30474  6.654299e+06\n",
       "1     201507  30475  6.654299e+06\n",
       "2     201507  30476  6.654299e+06\n",
       "3     201507  30477  6.654299e+06\n",
       "4     201507  30478  6.654299e+06"
      ]
     },
     "execution_count": 520,
     "metadata": {},
     "output_type": "execute_result"
    }
   ],
   "source": [
    "test_andy_mac_price.head()"
   ]
  },
  {
   "cell_type": "code",
   "execution_count": 521,
   "metadata": {
    "collapsed": false
   },
   "outputs": [
    {
     "data": {
      "text/plain": [
       "6351983.0032084882"
      ]
     },
     "execution_count": 521,
     "metadata": {},
     "output_type": "execute_result"
    }
   ],
   "source": [
    "macro_mean = np.exp(test_andy_mac_price.monthprice.apply(np.log).mean())\n",
    "macro_mean\n",
    "## why not get mean directly"
   ]
  },
  {
   "cell_type": "code",
   "execution_count": null,
   "metadata": {
    "collapsed": false
   },
   "outputs": [],
   "source": []
  },
  {
   "cell_type": "markdown",
   "metadata": {},
   "source": [
    "# Jason's Kernel\n"
   ]
  },
  {
   "cell_type": "code",
   "execution_count": 522,
   "metadata": {
    "collapsed": false
   },
   "outputs": [],
   "source": [
    "train_Jason = pd.read_csv('train.csv', parse_dates=['timestamp'])\n",
    "test_Jason= pd.read_csv('test.csv', parse_dates=['timestamp'])\n",
    "macro = pd.read_csv('macro.csv', parse_dates=['timestamp'])\n",
    "id_test_Jason = test_Jason.id\n",
    "train_Jason= train_Jason.drop(bias_list_04)"
   ]
  },
  {
   "cell_type": "code",
   "execution_count": null,
   "metadata": {
    "collapsed": false
   },
   "outputs": [],
   "source": []
  },
  {
   "cell_type": "code",
   "execution_count": null,
   "metadata": {
    "collapsed": true
   },
   "outputs": [],
   "source": []
  },
  {
   "cell_type": "code",
   "execution_count": 523,
   "metadata": {
    "collapsed": true
   },
   "outputs": [],
   "source": [
    "bad_index = train_Jason[train_Jason.life_sq > train_Jason.full_sq].index\n",
    "train_Jason.ix[bad_index, \"life_sq\"] = np.NaN\n",
    "equal_index = [601,1896,2791]\n",
    "test_Jason.ix[equal_index, \"life_sq\"] = test_Jason.ix[equal_index, \"full_sq\"]\n",
    "bad_index = test_Jason[test_Jason.life_sq > test_Jason.full_sq].index\n",
    "test_Jason.ix[bad_index, \"life_sq\"] = np.NaN\n",
    "bad_index = train_Jason[train_Jason.life_sq < 5].index\n",
    "train_Jason.ix[bad_index, \"life_sq\"] = np.NaN\n",
    "bad_index = test_Jason[test_Jason.life_sq < 5].index\n",
    "test_Jason.ix[bad_index, \"life_sq\"] = np.NaN\n",
    "bad_index = train_Jason[train_Jason.full_sq < 5].index\n",
    "train_Jason.ix[bad_index, \"full_sq\"] = np.NaN\n",
    "bad_index = test_Jason[test_Jason.full_sq < 5].index\n",
    "test_Jason.ix[bad_index, \"full_sq\"] = np.NaN\n",
    "kitch_is_build_year = [13117]\n",
    "train_Jason.ix[kitch_is_build_year, \"build_year\"] = train_Jason.ix[kitch_is_build_year, \"kitch_sq\"]\n",
    "bad_index = train_Jason[train_Jason.kitch_sq >= train_Jason.life_sq].index\n",
    "train_Jason.ix[bad_index, \"kitch_sq\"] = np.NaN\n",
    "bad_index = test_Jason[test_Jason.kitch_sq >= test_Jason.life_sq].index\n",
    "test_Jason.ix[bad_index, \"kitch_sq\"] = np.NaN\n",
    "bad_index = train_Jason[(train_Jason.kitch_sq == 0).values + (train_Jason.kitch_sq == 1).values].index\n",
    "train_Jason.ix[bad_index, \"kitch_sq\"] = np.NaN\n",
    "bad_index = test_Jason[(test_Jason.kitch_sq == 0).values + (test_Jason.kitch_sq == 1).values].index\n",
    "test_Jason.ix[bad_index, \"kitch_sq\"] = np.NaN\n",
    "bad_index = train_Jason[(train_Jason.full_sq > 210) & (train_Jason.life_sq / train_Jason.full_sq < 0.3)].index\n",
    "train_Jason.ix[bad_index, \"full_sq\"] = np.NaN\n",
    "bad_index = test_Jason[(test_Jason.full_sq > 150) & (test_Jason.life_sq / test_Jason.full_sq < 0.3)].index\n",
    "test_Jason.ix[bad_index, \"full_sq\"] = np.NaN"
   ]
  },
  {
   "cell_type": "code",
   "execution_count": 525,
   "metadata": {
    "collapsed": false
   },
   "outputs": [],
   "source": [
    "bad_index = train_Jason[train_Jason.life_sq > 300].index\n",
    "train_Jason.ix[bad_index, [\"life_sq\", \"full_sq\"]] = np.NaN\n",
    "bad_index = test_Jason[test_Jason.life_sq > 200].index\n",
    "test_Jason.ix[bad_index, [\"life_sq\", \"full_sq\"]] = np.NaN\n",
    "train_Jason.product_type.value_counts(normalize= True)\n",
    "test_Jason.product_type.value_counts(normalize= True)\n",
    "bad_index = train_Jason[train_Jason.build_year < 1500].index\n",
    "train_Jason.ix[bad_index, \"build_year\"] = np.NaN\n",
    "bad_index = test_Jason[test_Jason.build_year < 1500].index\n",
    "test_Jason.ix[bad_index, \"build_year\"] = np.NaN\n",
    "bad_index = train_Jason[train_Jason.num_room == 0].index \n",
    "train_Jason.ix[bad_index, \"num_room\"] = np.NaN\n",
    "bad_index = test_Jason[test_Jason.num_room == 0].index \n",
    "test_Jason.ix[bad_index, \"num_room\"] = np.NaN\n",
    "#bad_index = [10076, 11621, 17764, 19390, 24007, 26713, 29172]\n",
    "bad_index = [17764, 19390, 24007, 26713, 29172]\n",
    "train_Jason.ix[bad_index, \"num_room\"] = np.NaN\n",
    "bad_index = [3174, 7313]\n",
    "test_Jason.ix[bad_index, \"num_room\"] = np.NaN\n",
    "bad_index = train_Jason[(train_Jason.floor == 0).values * (train_Jason.max_floor == 0).values].index\n",
    "train_Jason.ix[bad_index, [\"max_floor\", \"floor\"]] = np.NaN\n",
    "bad_index = train_Jason[train_Jason.floor == 0].index\n",
    "train_Jason.ix[bad_index, \"floor\"] = np.NaN\n",
    "bad_index = train_Jason[train_Jason.max_floor == 0].index\n",
    "train_Jason.ix[bad_index, \"max_floor\"] = np.NaN\n",
    "bad_index = test_Jason[test_Jason.max_floor == 0].index\n",
    "test_Jason.ix[bad_index, \"max_floor\"] = np.NaN\n",
    "bad_index = train_Jason[train_Jason.floor > train_Jason.max_floor].index\n",
    "train_Jason.ix[bad_index, \"max_floor\"] = np.NaN\n",
    "bad_index = test_Jason[test_Jason.floor > test_Jason.max_floor].index\n",
    "test_Jason.ix[bad_index, \"max_floor\"] = np.NaN\n",
    "train_Jason.floor.describe(percentiles= [0.9999])\n",
    "bad_index = [23584]\n",
    "train_Jason.ix[bad_index, \"floor\"] = np.NaN"
   ]
  },
  {
   "cell_type": "code",
   "execution_count": 526,
   "metadata": {
    "collapsed": false
   },
   "outputs": [
    {
     "data": {
      "text/plain": [
       "2.0    2662\n",
       "1.0    2266\n",
       "3.0    1913\n",
       "4.0     127\n",
       "Name: state, dtype: int64"
      ]
     },
     "execution_count": 526,
     "metadata": {},
     "output_type": "execute_result"
    }
   ],
   "source": [
    "bad_index = train_Jason[train_Jason.state == 33].index\n",
    "train_Jason.ix[bad_index, \"state\"] = np.NaN\n",
    "test_Jason.state.value_counts()"
   ]
  },
  {
   "cell_type": "code",
   "execution_count": 527,
   "metadata": {
    "collapsed": true
   },
   "outputs": [],
   "source": [
    "train_Jason.loc[train_Jason.full_sq == 0, 'full_sq'] = 50\n",
    "train_Jason = train_Jason[train_Jason.price_doc/train_Jason.full_sq <= 600000]\n",
    "train_Jason = train_Jason[train_Jason.price_doc/train_Jason.full_sq >= 10000]"
   ]
  },
  {
   "cell_type": "code",
   "execution_count": 528,
   "metadata": {
    "collapsed": true
   },
   "outputs": [],
   "source": [
    "# Add month-year\n",
    "month_year = (train_Jason.timestamp.dt.month + train_Jason.timestamp.dt.year * 100)\n",
    "month_year_cnt_map = month_year.value_counts().to_dict()\n",
    "train_Jason['month_year_cnt'] = month_year.map(month_year_cnt_map)\n",
    "\n",
    "month_year = (test_Jason.timestamp.dt.month + test_Jason.timestamp.dt.year * 100)\n",
    "month_year_cnt_map = month_year.value_counts().to_dict()\n",
    "test_Jason['month_year_cnt'] = month_year.map(month_year_cnt_map)\n",
    "\n",
    "# Add week-year count\n",
    "week_year = (train_Jason.timestamp.dt.weekofyear + train_Jason.timestamp.dt.year * 100)\n",
    "week_year_cnt_map = week_year.value_counts().to_dict()\n",
    "train_Jason['week_year_cnt'] = week_year.map(week_year_cnt_map)\n",
    "\n",
    "week_year = (test_Jason.timestamp.dt.weekofyear + test_Jason.timestamp.dt.year * 100)\n",
    "week_year_cnt_map = week_year.value_counts().to_dict()\n",
    "test_Jason['week_year_cnt'] = week_year.map(week_year_cnt_map)\n",
    "\n",
    "# Add month and day-of-week\n",
    "train_Jason['month'] = train_Jason.timestamp.dt.month\n",
    "train_Jason['dow'] = train_Jason.timestamp.dt.dayofweek\n",
    "\n",
    "test_Jason['month'] = test_Jason.timestamp.dt.month\n",
    "test_Jason['dow'] = test_Jason.timestamp.dt.dayofweek"
   ]
  },
  {
   "cell_type": "code",
   "execution_count": 529,
   "metadata": {
    "collapsed": true
   },
   "outputs": [],
   "source": [
    "# Other feature engineering\n",
    "train_Jason['rel_floor'] = train_Jason['floor'] / train_Jason['max_floor'].astype(float)\n",
    "train_Jason['rel_kitch_sq'] = train_Jason['kitch_sq'] / train_Jason['full_sq'].astype(float)\n",
    "\n",
    "test_Jason['rel_floor'] = test_Jason['floor'] / test_Jason['max_floor'].astype(float)\n",
    "test_Jason['rel_kitch_sq'] = test_Jason['kitch_sq'] / test_Jason['full_sq'].astype(float)\n",
    "\n",
    "train_Jason.apartment_name=train_Jason.sub_area + train_Jason['metro_km_avto'].astype(str)\n",
    "test_Jason.apartment_name=test_Jason.sub_area + train_Jason['metro_km_avto'].astype(str)\n",
    "\n",
    "train_Jason['room_size'] = train_Jason['life_sq'] / train_Jason['num_room'].astype(float)\n",
    "test_Jason['room_size'] = test_Jason['life_sq'] / test_Jason['num_room'].astype(float)\n",
    "\n"
   ]
  },
  {
   "cell_type": "code",
   "execution_count": 530,
   "metadata": {
    "collapsed": false
   },
   "outputs": [
    {
     "data": {
      "text/plain": [
       "(27034, 299)"
      ]
     },
     "execution_count": 530,
     "metadata": {},
     "output_type": "execute_result"
    }
   ],
   "source": [
    "train_Jason.shape"
   ]
  },
  {
   "cell_type": "code",
   "execution_count": 531,
   "metadata": {
    "collapsed": false
   },
   "outputs": [],
   "source": [
    "y_train = train_Jason[\"price_doc\"]\n",
    "wts = 1 - .47*(y_train == 1e6)\n",
    "x_train = train_Jason.drop([\"id\", \"timestamp\", \"price_doc\"], axis=1)\n",
    "x_test = test_Jason.drop([\"id\", \"timestamp\"], axis=1)\n"
   ]
  },
  {
   "cell_type": "code",
   "execution_count": 532,
   "metadata": {
    "collapsed": false
   },
   "outputs": [
    {
     "data": {
      "text/plain": [
       "(27034,)"
      ]
     },
     "execution_count": 532,
     "metadata": {},
     "output_type": "execute_result"
    }
   ],
   "source": [
    "y_train.shape"
   ]
  },
  {
   "cell_type": "code",
   "execution_count": 533,
   "metadata": {
    "collapsed": false
   },
   "outputs": [
    {
     "data": {
      "text/plain": [
       "1.0    27034\n",
       "Name: price_doc, dtype: int64"
      ]
     },
     "execution_count": 533,
     "metadata": {},
     "output_type": "execute_result"
    }
   ],
   "source": [
    "wts.value_counts()"
   ]
  },
  {
   "cell_type": "code",
   "execution_count": 534,
   "metadata": {
    "collapsed": false
   },
   "outputs": [],
   "source": [
    "for c in x_train.columns:\n",
    "    if x_train[c].dtype == 'object':\n",
    "        lbl = preprocessing.LabelEncoder()\n",
    "        lbl.fit(list(x_train[c].values)) \n",
    "        x_train[c] = lbl.transform(list(x_train[c].values))"
   ]
  },
  {
   "cell_type": "code",
   "execution_count": 535,
   "metadata": {
    "collapsed": true
   },
   "outputs": [],
   "source": [
    "for c in x_test.columns:\n",
    "    if x_test[c].dtype == 'object':\n",
    "        lbl = preprocessing.LabelEncoder()\n",
    "        lbl.fit(list(x_test[c].values)) \n",
    "        x_test[c] = lbl.transform(list(x_test[c].values))"
   ]
  },
  {
   "cell_type": "code",
   "execution_count": 536,
   "metadata": {
    "collapsed": false
   },
   "outputs": [
    {
     "name": "stdout",
     "output_type": "stream",
     "text": [
      "(27034, 296) (7662, 296) (27034,)\n"
     ]
    }
   ],
   "source": [
    "print x_train.shape, x_test.shape, y_train.shape"
   ]
  },
  {
   "cell_type": "code",
   "execution_count": 537,
   "metadata": {
    "collapsed": true
   },
   "outputs": [],
   "source": [
    "xgb_params = {\n",
    "    'eta': 0.05,\n",
    "    'max_depth': 5,\n",
    "    'subsample': 0.7,\n",
    "    'colsample_bytree': 0.7,\n",
    "    'objective': 'reg:linear',\n",
    "    'eval_metric': 'rmse',\n",
    "    'silent': 1\n",
    "}\n",
    "\n",
    "dtrain = xgb.DMatrix(x_train, y_train, weight=wts)\n",
    "dtest = xgb.DMatrix(x_test)"
   ]
  },
  {
   "cell_type": "code",
   "execution_count": 538,
   "metadata": {
    "collapsed": true
   },
   "outputs": [],
   "source": [
    "def rmsle(Truth, prediction):\n",
    "    C = np.square(np.log(Truth+1)-np.log(prediction+1))\n",
    "    return np.sqrt(np.sum(C)/len(Truth))"
   ]
  },
  {
   "cell_type": "code",
   "execution_count": null,
   "metadata": {
    "collapsed": true
   },
   "outputs": [],
   "source": [
    "#model = xgb.XGBRegressor(max_depth=5,learning_rate=0.05, subsample=0.7, colsample_bytree= 0.7, objective= 'reg:linear', silent=True )"
   ]
  },
  {
   "cell_type": "code",
   "execution_count": null,
   "metadata": {
    "collapsed": true
   },
   "outputs": [],
   "source": [
    "#sco_rmsle = make_scorer(rmsle, greater_is_better=True)"
   ]
  },
  {
   "cell_type": "code",
   "execution_count": null,
   "metadata": {
    "collapsed": false
   },
   "outputs": [],
   "source": [
    "#cv_scores = cross_val_score(model, x_train, y_train, cv=5, scoring=sco_rmsle)"
   ]
  },
  {
   "cell_type": "code",
   "execution_count": null,
   "metadata": {
    "collapsed": false
   },
   "outputs": [],
   "source": [
    "#cv_scores"
   ]
  },
  {
   "cell_type": "code",
   "execution_count": null,
   "metadata": {
    "collapsed": false
   },
   "outputs": [],
   "source": [
    "#cv_scores.mean()"
   ]
  },
  {
   "cell_type": "code",
   "execution_count": null,
   "metadata": {
    "collapsed": false
   },
   "outputs": [],
   "source": [
    "#cv_output = xgb.cv(xgb_params, dtrain, num_boost_round=1000, early_stopping_rounds=20,verbose_eval=50, show_stdv=False)"
   ]
  },
  {
   "cell_type": "code",
   "execution_count": null,
   "metadata": {
    "collapsed": false
   },
   "outputs": [],
   "source": [
    "#cv_output[['train-rmse-mean', 'test-rmse-mean']].plot()\n",
    "#plt.show()"
   ]
  },
  {
   "cell_type": "code",
   "execution_count": 539,
   "metadata": {
    "collapsed": true
   },
   "outputs": [],
   "source": [
    "model = xgb.train(dict(xgb_params, silent=0), dtrain, num_boost_round=389)"
   ]
  },
  {
   "cell_type": "code",
   "execution_count": null,
   "metadata": {
    "collapsed": false
   },
   "outputs": [],
   "source": []
  },
  {
   "cell_type": "code",
   "execution_count": 540,
   "metadata": {
    "collapsed": false
   },
   "outputs": [],
   "source": [
    "y_predict = model.predict(dtest)"
   ]
  },
  {
   "cell_type": "code",
   "execution_count": 541,
   "metadata": {
    "collapsed": false
   },
   "outputs": [
    {
     "data": {
      "text/plain": [
       "array([ 6263240. ,  8377030.5,  6310842.5, ...,  4468923. ,  5846842.5,\n",
       "        9196258. ], dtype=float32)"
      ]
     },
     "execution_count": 541,
     "metadata": {},
     "output_type": "execute_result"
    }
   ],
   "source": [
    "y_predict"
   ]
  },
  {
   "cell_type": "code",
   "execution_count": 542,
   "metadata": {
    "collapsed": false
   },
   "outputs": [
    {
     "data": {
      "text/html": [
       "<div>\n",
       "<table border=\"1\" class=\"dataframe\">\n",
       "  <thead>\n",
       "    <tr style=\"text-align: right;\">\n",
       "      <th></th>\n",
       "      <th>id</th>\n",
       "      <th>price_doc</th>\n",
       "    </tr>\n",
       "  </thead>\n",
       "  <tbody>\n",
       "    <tr>\n",
       "      <th>0</th>\n",
       "      <td>30474</td>\n",
       "      <td>6263240.0</td>\n",
       "    </tr>\n",
       "    <tr>\n",
       "      <th>1</th>\n",
       "      <td>30475</td>\n",
       "      <td>8377030.5</td>\n",
       "    </tr>\n",
       "    <tr>\n",
       "      <th>2</th>\n",
       "      <td>30476</td>\n",
       "      <td>6310842.5</td>\n",
       "    </tr>\n",
       "    <tr>\n",
       "      <th>3</th>\n",
       "      <td>30477</td>\n",
       "      <td>6305468.0</td>\n",
       "    </tr>\n",
       "    <tr>\n",
       "      <th>4</th>\n",
       "      <td>30478</td>\n",
       "      <td>5133986.0</td>\n",
       "    </tr>\n",
       "  </tbody>\n",
       "</table>\n",
       "</div>"
      ],
      "text/plain": [
       "      id  price_doc\n",
       "0  30474  6263240.0\n",
       "1  30475  8377030.5\n",
       "2  30476  6310842.5\n",
       "3  30477  6305468.0\n",
       "4  30478  5133986.0"
      ]
     },
     "execution_count": 542,
     "metadata": {},
     "output_type": "execute_result"
    }
   ],
   "source": [
    "jason_model_output = pd.DataFrame({'id': id_test_Jason, 'price_doc': y_predict})\n",
    "jason_model_output.head()"
   ]
  },
  {
   "cell_type": "code",
   "execution_count": 543,
   "metadata": {
    "collapsed": false
   },
   "outputs": [
    {
     "data": {
      "text/plain": [
       "7330632.5399125209"
      ]
     },
     "execution_count": 543,
     "metadata": {},
     "output_type": "execute_result"
    }
   ],
   "source": [
    "np.exp( jason_model_output.price_doc.apply(np.log).mean() )"
   ]
  },
  {
   "cell_type": "markdown",
   "metadata": {},
   "source": [
    "# Rey's model"
   ]
  },
  {
   "cell_type": "code",
   "execution_count": 544,
   "metadata": {
    "collapsed": false
   },
   "outputs": [
    {
     "data": {
      "text/plain": [
       "(30471, 292)"
      ]
     },
     "execution_count": 544,
     "metadata": {},
     "output_type": "execute_result"
    }
   ],
   "source": [
    "\n",
    "train_Rey = pd.read_csv('train.csv')\n",
    "test_Rey= pd.read_csv('test.csv')\n",
    "id_test = test_Rey.id\n",
    "\n",
    "train_Rey.shape"
   ]
  },
  {
   "cell_type": "code",
   "execution_count": 545,
   "metadata": {
    "collapsed": false
   },
   "outputs": [
    {
     "name": "stdout",
     "output_type": "stream",
     "text": [
      "0         5850000\n",
      "1         6000000\n",
      "2         5700000\n",
      "3        13100000\n",
      "4        16331452\n",
      "5         9100000\n",
      "6         5500000\n",
      "8         5300000\n",
      "10        4650000\n",
      "11        4800000\n",
      "12        5100000\n",
      "13        5200000\n",
      "14        5000000\n",
      "16        6300000\n",
      "17        5900000\n",
      "18        7900000\n",
      "19        5200000\n",
      "20        8200000\n",
      "21        5200000\n",
      "22        6250000\n",
      "23        5750000\n",
      "24        6000000\n",
      "26        5000000\n",
      "27        4700000\n",
      "28        8254400\n",
      "29        5900000\n",
      "30        6200000\n",
      "31       18300000\n",
      "32        4900000\n",
      "33        4400000\n",
      "           ...   \n",
      "30436     6700000\n",
      "30437     9037925\n",
      "30438    20000000\n",
      "30439     8535937\n",
      "30442     4350000\n",
      "30443     7567425\n",
      "30444    11438948\n",
      "30445    10139368\n",
      "30446     6125400\n",
      "30447     6373324\n",
      "30448     6888144\n",
      "30449     9227657\n",
      "30451     2394300\n",
      "30452     6800000\n",
      "30453     4066740\n",
      "30454     6300000\n",
      "30455     9014972\n",
      "30457     7800000\n",
      "30458     6370777\n",
      "30459     5778893\n",
      "30460     9500000\n",
      "30462    10544070\n",
      "30463    12000000\n",
      "30464    10262010\n",
      "30465     6750554\n",
      "30466     7400000\n",
      "30467    25000000\n",
      "30468     6970959\n",
      "30469    13500000\n",
      "30470     5600000\n",
      "Name: price_doc, dtype: int64        full_sq  life_sq  floor  max_floor  material  build_year  num_room  \\\n",
      "0           43     27.0    4.0        NaN       NaN         NaN       NaN   \n",
      "1           34     19.0    3.0        NaN       NaN         NaN       NaN   \n",
      "2           43     29.0    2.0        NaN       NaN         NaN       NaN   \n",
      "3           89     50.0    9.0        NaN       NaN         NaN       NaN   \n",
      "4           77     77.0    4.0        NaN       NaN         NaN       NaN   \n",
      "5           67     46.0   14.0        NaN       NaN         NaN       NaN   \n",
      "6           25     14.0   10.0        NaN       NaN         NaN       NaN   \n",
      "8           42     27.0    5.0        NaN       NaN         NaN       NaN   \n",
      "10          36     19.0   12.0        NaN       NaN         NaN       NaN   \n",
      "11          38     19.0   11.0        NaN       NaN         NaN       NaN   \n",
      "12          43     28.0    4.0        NaN       NaN         NaN       NaN   \n",
      "13          31     31.0    4.0        NaN       NaN         NaN       NaN   \n",
      "14          31     21.0    3.0        NaN       NaN         NaN       NaN   \n",
      "16          47     31.0    4.0        NaN       NaN         NaN       NaN   \n",
      "17          42     28.0    2.0        NaN       NaN         NaN       NaN   \n",
      "18          59     33.0   10.0        NaN       NaN         NaN       NaN   \n",
      "19          44     29.0    4.0        NaN       NaN         NaN       NaN   \n",
      "20          74     44.0   10.0        NaN       NaN         NaN       NaN   \n",
      "21          39     39.0    7.0        NaN       NaN         NaN       NaN   \n",
      "22          48     34.0    6.0        NaN       NaN         NaN       NaN   \n",
      "23          32     18.0    3.0        NaN       NaN         NaN       NaN   \n",
      "24          34     19.0   11.0        NaN       NaN         NaN       NaN   \n",
      "26          35     20.0    4.0        NaN       NaN         NaN       NaN   \n",
      "27          38     20.0    6.0        NaN       NaN         NaN       NaN   \n",
      "28          73     38.0   15.0        NaN       NaN         NaN       NaN   \n",
      "29          42     27.0    3.0        NaN       NaN         NaN       NaN   \n",
      "30          40     20.0   12.0        NaN       NaN         NaN       NaN   \n",
      "31          81     46.0   24.0        NaN       NaN         NaN       NaN   \n",
      "32          38     34.0    2.0        NaN       NaN         NaN       NaN   \n",
      "33          31     18.0    4.0        NaN       NaN         NaN       NaN   \n",
      "...        ...      ...    ...        ...       ...         ...       ...   \n",
      "30436       39     20.0    7.0       12.0       1.0      1982.0       1.0   \n",
      "30437       56     40.0   10.0       24.0       6.0      2017.0       2.0   \n",
      "30438       88     58.0    7.0        8.0       2.0      1960.0       3.0   \n",
      "30439       54      NaN   12.0        0.0       1.0         NaN       2.0   \n",
      "30442       40     40.0    2.0       12.0       4.0      2015.0       1.0   \n",
      "30443       79      NaN   17.0       17.0       1.0         NaN       3.0   \n",
      "30444       85      NaN   20.0       25.0       4.0      2016.0       3.0   \n",
      "30445       47     47.0   19.0       25.0       1.0      2016.0       1.0   \n",
      "30446       82     82.0    8.0        8.0       6.0      2017.0       2.0   \n",
      "30447       64      NaN   15.0       17.0       1.0         NaN       2.0   \n",
      "30448       74      NaN    8.0       17.0       1.0         NaN       3.0   \n",
      "30449       47     47.0    7.0       25.0       1.0      2015.0       1.0   \n",
      "30451       37      NaN    3.0        3.0       1.0         0.0       1.0   \n",
      "30452       38     19.0    7.0       17.0       1.0      2006.0       1.0   \n",
      "30453       45      1.0    6.0       15.0       6.0      2015.0       1.0   \n",
      "30454       40     26.0    3.0        9.0       2.0      1972.0       2.0   \n",
      "30455       79     79.0    3.0        3.0       1.0         NaN       3.0   \n",
      "30457       58     43.0    7.0        9.0       1.0      1979.0       3.0   \n",
      "30458       50      1.0    7.0        7.0       1.0      2015.0       1.0   \n",
      "30459       51      NaN    4.0       17.0       4.0         NaN       2.0   \n",
      "30460       54     32.0    8.0       16.0       1.0      1979.0       2.0   \n",
      "30462       47     30.0   23.0       25.0       4.0      2016.0       1.0   \n",
      "30463       56     29.0   13.0       14.0       1.0      2001.0       2.0   \n",
      "30464       56     51.0   19.0       19.0       1.0      2017.0       2.0   \n",
      "30465       52      NaN   13.0       17.0       1.0         NaN       2.0   \n",
      "30466       44     27.0    7.0        9.0       1.0      1975.0       2.0   \n",
      "30467       86     59.0    3.0        9.0       2.0      1935.0       4.0   \n",
      "30468       45      NaN   10.0       20.0       1.0         NaN       1.0   \n",
      "30469       64     32.0    5.0       15.0       1.0      2003.0       2.0   \n",
      "30470       43     28.0    1.0        9.0       1.0      1968.0       2.0   \n",
      "\n",
      "       kitch_sq  state   product_type        ...          \\\n",
      "0           NaN    NaN     Investment        ...           \n",
      "1           NaN    NaN     Investment        ...           \n",
      "2           NaN    NaN     Investment        ...           \n",
      "3           NaN    NaN     Investment        ...           \n",
      "4           NaN    NaN     Investment        ...           \n",
      "5           NaN    NaN     Investment        ...           \n",
      "6           NaN    NaN     Investment        ...           \n",
      "8           NaN    NaN     Investment        ...           \n",
      "10          NaN    NaN     Investment        ...           \n",
      "11          NaN    NaN     Investment        ...           \n",
      "12          NaN    NaN     Investment        ...           \n",
      "13          NaN    NaN     Investment        ...           \n",
      "14          NaN    NaN     Investment        ...           \n",
      "16          NaN    NaN     Investment        ...           \n",
      "17          NaN    NaN     Investment        ...           \n",
      "18          NaN    NaN     Investment        ...           \n",
      "19          NaN    NaN     Investment        ...           \n",
      "20          NaN    NaN     Investment        ...           \n",
      "21          NaN    NaN     Investment        ...           \n",
      "22          NaN    NaN     Investment        ...           \n",
      "23          NaN    NaN     Investment        ...           \n",
      "24          NaN    NaN     Investment        ...           \n",
      "26          NaN    NaN     Investment        ...           \n",
      "27          NaN    NaN     Investment        ...           \n",
      "28          NaN    NaN  OwnerOccupier        ...           \n",
      "29          NaN    NaN     Investment        ...           \n",
      "30          NaN    NaN     Investment        ...           \n",
      "31          NaN    NaN     Investment        ...           \n",
      "32          NaN    NaN     Investment        ...           \n",
      "33          NaN    NaN     Investment        ...           \n",
      "...         ...    ...            ...        ...           \n",
      "30436       8.0    3.0     Investment        ...           \n",
      "30437       8.0    1.0  OwnerOccupier        ...           \n",
      "30438       8.0    3.0     Investment        ...           \n",
      "30439       0.0    NaN  OwnerOccupier        ...           \n",
      "30442      10.0    1.0  OwnerOccupier        ...           \n",
      "30443      79.0    1.0  OwnerOccupier        ...           \n",
      "30444       1.0    1.0  OwnerOccupier        ...           \n",
      "30445       1.0    1.0  OwnerOccupier        ...           \n",
      "30446       1.0    1.0  OwnerOccupier        ...           \n",
      "30447       1.0    NaN  OwnerOccupier        ...           \n",
      "30448       1.0    NaN  OwnerOccupier        ...           \n",
      "30449       1.0    1.0  OwnerOccupier        ...           \n",
      "30451       1.0    1.0  OwnerOccupier        ...           \n",
      "30452       7.0    3.0     Investment        ...           \n",
      "30453       1.0    1.0  OwnerOccupier        ...           \n",
      "30454       5.0    3.0     Investment        ...           \n",
      "30455       1.0    NaN  OwnerOccupier        ...           \n",
      "30457       6.0    3.0     Investment        ...           \n",
      "30458       0.0    1.0  OwnerOccupier        ...           \n",
      "30459       1.0    1.0  OwnerOccupier        ...           \n",
      "30460       9.0    2.0     Investment        ...           \n",
      "30462      10.0    1.0  OwnerOccupier        ...           \n",
      "30463      11.0    3.0     Investment        ...           \n",
      "30464       1.0    1.0  OwnerOccupier        ...           \n",
      "30465       1.0    1.0  OwnerOccupier        ...           \n",
      "30466       6.0    3.0     Investment        ...           \n",
      "30467      10.0    3.0     Investment        ...           \n",
      "30468       1.0    1.0  OwnerOccupier        ...           \n",
      "30469      11.0    2.0     Investment        ...           \n",
      "30470       6.0    2.0     Investment        ...           \n",
      "\n",
      "      cafe_count_5000_price_1500  cafe_count_5000_price_2500  \\\n",
      "0                             40                           9   \n",
      "1                             36                          15   \n",
      "2                             25                          10   \n",
      "3                             15                          11   \n",
      "4                            552                         319   \n",
      "5                            155                          62   \n",
      "6                            144                          81   \n",
      "8                             69                          19   \n",
      "10                            11                           1   \n",
      "11                            39                           8   \n",
      "12                            21                          13   \n",
      "13                           366                         254   \n",
      "14                           205                          88   \n",
      "16                            29                          10   \n",
      "17                            78                          32   \n",
      "18                            11                           1   \n",
      "19                            24                           9   \n",
      "20                             1                           0   \n",
      "21                            53                          18   \n",
      "22                            42                          16   \n",
      "23                            26                          10   \n",
      "24                            40                          20   \n",
      "26                            52                          16   \n",
      "27                             5                           1   \n",
      "28                            51                          20   \n",
      "29                            29                          15   \n",
      "30                            29                          22   \n",
      "31                            40                          12   \n",
      "32                            30                           5   \n",
      "33                            32                          15   \n",
      "...                          ...                         ...   \n",
      "30436                         36                           9   \n",
      "30437                         40                          13   \n",
      "30438                        306                         192   \n",
      "30439                         36                          13   \n",
      "30442                          8                           0   \n",
      "30443                         12                           7   \n",
      "30444                         24                          13   \n",
      "30445                        143                          99   \n",
      "30446                          4                           2   \n",
      "30447                         12                           7   \n",
      "30448                          3                           1   \n",
      "30449                        143                          99   \n",
      "30451                          0                           0   \n",
      "30452                         41                          26   \n",
      "30453                         11                           2   \n",
      "30454                         39                          25   \n",
      "30455                          5                           1   \n",
      "30457                         11                           5   \n",
      "30458                         22                          13   \n",
      "30459                         12                           7   \n",
      "30460                         30                           8   \n",
      "30462                        143                          99   \n",
      "30463                         38                          14   \n",
      "30464                         41                          25   \n",
      "30465                        636                         371   \n",
      "30466                         47                          15   \n",
      "30467                        511                         313   \n",
      "30468                          5                           1   \n",
      "30469                         58                          22   \n",
      "30470                         22                           5   \n",
      "\n",
      "       cafe_count_5000_price_4000  cafe_count_5000_price_high  \\\n",
      "0                               4                           0   \n",
      "1                               3                           0   \n",
      "2                               3                           0   \n",
      "3                               2                           1   \n",
      "4                             108                          17   \n",
      "5                              14                           1   \n",
      "6                              16                           3   \n",
      "8                               8                           1   \n",
      "10                              1                           0   \n",
      "11                              3                           0   \n",
      "12                              9                           1   \n",
      "13                            108                          22   \n",
      "14                             19                           2   \n",
      "16                              2                           0   \n",
      "17                              6                           0   \n",
      "18                              1                           0   \n",
      "19                              2                           0   \n",
      "20                              0                           0   \n",
      "21                              3                           0   \n",
      "22                              4                           1   \n",
      "23                              1                           0   \n",
      "24                              4                           1   \n",
      "26                              5                           0   \n",
      "27                              1                           0   \n",
      "28                              3                           0   \n",
      "29                              2                           0   \n",
      "30                              8                           2   \n",
      "31                              5                           0   \n",
      "32                              1                           0   \n",
      "33                              3                           0   \n",
      "...                           ...                         ...   \n",
      "30436                           3                           0   \n",
      "30437                           3                           0   \n",
      "30438                          62                          12   \n",
      "30439                           3                           0   \n",
      "30442                           0                           0   \n",
      "30443                           2                           0   \n",
      "30444                           4                           1   \n",
      "30445                          57                          12   \n",
      "30446                           2                           0   \n",
      "30447                           2                           0   \n",
      "30448                           0                           0   \n",
      "30449                          57                          12   \n",
      "30451                           0                           0   \n",
      "30452                          12                           0   \n",
      "30453                           1                           0   \n",
      "30454                           3                           0   \n",
      "30455                           1                           0   \n",
      "30457                           0                           0   \n",
      "30458                           1                           0   \n",
      "30459                           2                           0   \n",
      "30460                           0                           0   \n",
      "30462                          57                          12   \n",
      "30463                           2                           0   \n",
      "30464                           3                           0   \n",
      "30465                         141                          26   \n",
      "30466                           5                           0   \n",
      "30467                         128                          24   \n",
      "30468                           1                           0   \n",
      "30469                           1                           1   \n",
      "30470                           2                           0   \n",
      "\n",
      "       big_church_count_5000  church_count_5000  mosque_count_5000  \\\n",
      "0                         13                 22                  1   \n",
      "1                         15                 29                  1   \n",
      "2                         11                 27                  0   \n",
      "3                          4                  4                  0   \n",
      "4                        135                236                  2   \n",
      "5                         53                 78                  1   \n",
      "6                         38                 80                  1   \n",
      "8                         18                 34                  1   \n",
      "10                         5                  9                  0   \n",
      "11                        10                  9                  0   \n",
      "12                         7                 15                  0   \n",
      "13                        57                102                  1   \n",
      "14                        63                100                  0   \n",
      "16                         7                 23                  0   \n",
      "17                        13                 33                  1   \n",
      "18                         6                  9                  0   \n",
      "19                        10                 14                  0   \n",
      "20                         1                  5                  0   \n",
      "21                        12                 14                  0   \n",
      "22                        11                 10                  0   \n",
      "23                         7                 21                  1   \n",
      "24                         8                  9                  0   \n",
      "26                        13                 25                  1   \n",
      "27                         2                 10                  0   \n",
      "28                        17                 35                  0   \n",
      "29                        12                 17                  0   \n",
      "30                         4                 16                  0   \n",
      "31                        10                 10                  0   \n",
      "32                        11                 13                  0   \n",
      "33                         7                 27                  1   \n",
      "...                      ...                ...                ...   \n",
      "30436                     12                 21                  1   \n",
      "30437                      9                 29                  0   \n",
      "30438                     51                110                  1   \n",
      "30439                     10                 30                  0   \n",
      "30442                      1                  7                  1   \n",
      "30443                      5                 14                  0   \n",
      "30444                      5                  7                  0   \n",
      "30445                     23                 42                  1   \n",
      "30446                      2                  9                  0   \n",
      "30447                      5                 14                  0   \n",
      "30448                      1                  7                  0   \n",
      "30449                     23                 42                  1   \n",
      "30451                      0                  0                  0   \n",
      "30452                      8                 23                  1   \n",
      "30453                      3                  8                  1   \n",
      "30454                     17                 29                  0   \n",
      "30455                      2                 12                  0   \n",
      "30457                      8                  7                  1   \n",
      "30458                      5                 15                  0   \n",
      "30459                      5                 14                  0   \n",
      "30460                      6                 25                  0   \n",
      "30462                     23                 42                  1   \n",
      "30463                     13                 12                  0   \n",
      "30464                     14                 29                  1   \n",
      "30465                    150                249                  2   \n",
      "30466                     15                 26                  1   \n",
      "30467                     98                182                  1   \n",
      "30468                      2                 12                  0   \n",
      "30469                      6                 31                  1   \n",
      "30470                      7                 16                  0   \n",
      "\n",
      "       leisure_count_5000  sport_count_5000  market_count_5000  \n",
      "0                       0                52                  4  \n",
      "1                      10                66                 14  \n",
      "2                       4                67                 10  \n",
      "3                       0                26                  3  \n",
      "4                      91               195                 14  \n",
      "5                      20               113                 17  \n",
      "6                      27               127                  8  \n",
      "8                       3                85                 11  \n",
      "10                      2                17                  6  \n",
      "11                      0                35                  4  \n",
      "12                      2                47                  0  \n",
      "13                     72               166                  7  \n",
      "14                     28               132                 14  \n",
      "16                      4                62                 13  \n",
      "17                     10                72                 12  \n",
      "18                      2                17                  6  \n",
      "19                      2                51                  5  \n",
      "20                      0                 0                  0  \n",
      "21                      1                64                  9  \n",
      "22                      1                55                  8  \n",
      "23                      1                42                 13  \n",
      "24                      1                56                  8  \n",
      "26                      3                84                  4  \n",
      "27                      1                11                  2  \n",
      "28                      9                98                  7  \n",
      "29                      3                73                  5  \n",
      "30                      0                60                  3  \n",
      "31                      1                50                  4  \n",
      "32                      0                43                  5  \n",
      "33                      9                60                 18  \n",
      "...                   ...               ...                ...  \n",
      "30436                   0                53                  5  \n",
      "30437                   7                63                 13  \n",
      "30438                  54               144                 11  \n",
      "30439                   8                69                 15  \n",
      "30442                   0                12                  1  \n",
      "30443                   3                17                  2  \n",
      "30444                   1                38                  5  \n",
      "30445                  13               123                  7  \n",
      "30446                   0                 7                  2  \n",
      "30447                   3                17                  2  \n",
      "30448                   0                 8                  0  \n",
      "30449                  13               123                  7  \n",
      "30451                   0                 0                  0  \n",
      "30452                   4                67                  2  \n",
      "30453                   0                20                  3  \n",
      "30454                   8                90                  4  \n",
      "30455                   1                10                  0  \n",
      "30457                   1                36                  1  \n",
      "30458                   3                35                  3  \n",
      "30459                   3                17                  2  \n",
      "30460                   1                32                  8  \n",
      "30462                  13               123                  7  \n",
      "30463                   1                53                  6  \n",
      "30464                   4                90                  6  \n",
      "30465                 105               203                 13  \n",
      "30466                   2                84                  6  \n",
      "30467                  82               171                 15  \n",
      "30468                   1                11                  1  \n",
      "30469                   4                65                  7  \n",
      "30470                   9                54                 10  \n",
      "\n",
      "[27109 rows x 289 columns]\n"
     ]
    }
   ],
   "source": [
    "y_train_Rey = train_Rey[\"price_doc\"]\n",
    "y_train_Rey = y_train_Rey.drop(bias_list_04)\n",
    "train_Rey = train_Rey.drop(bias_list_04)\n",
    "x_train_Rey = train_Rey.drop([\"id\", \"timestamp\", \"price_doc\"], axis=1)\n",
    "x_test_Rey = test_Rey.drop([\"id\", \"timestamp\"], axis=1)\n",
    "print y_train_Rey, x_train_Rey\n",
    "\n"
   ]
  },
  {
   "cell_type": "code",
   "execution_count": 546,
   "metadata": {
    "collapsed": false
   },
   "outputs": [
    {
     "name": "stdout",
     "output_type": "stream",
     "text": [
      "(27109,) (27109, 289)\n"
     ]
    }
   ],
   "source": [
    "print y_train_Rey.shape, x_train_Rey.shape"
   ]
  },
  {
   "cell_type": "code",
   "execution_count": 547,
   "metadata": {
    "collapsed": true
   },
   "outputs": [],
   "source": [
    "for c in x_train_Rey.columns:\n",
    "    if x_train_Rey[c].dtype == 'object':\n",
    "        lbl = preprocessing.LabelEncoder()\n",
    "        lbl.fit(list(x_train_Rey[c].values)) \n",
    "        x_train_Rey[c] = lbl.transform(list(x_train_Rey[c].values))\n",
    "        \n",
    "for c in x_test_Rey.columns:\n",
    "    if x_test_Rey[c].dtype == 'object':\n",
    "        lbl = preprocessing.LabelEncoder()\n",
    "        lbl.fit(list(x_test_Rey[c].values)) \n",
    "        x_test_Rey[c] = lbl.transform(list(x_test_Rey[c].values))"
   ]
  },
  {
   "cell_type": "code",
   "execution_count": 548,
   "metadata": {
    "collapsed": true
   },
   "outputs": [],
   "source": [
    "dtrain_Rey = xgb.DMatrix(x_train_Rey, y_train_Rey)\n",
    "dtest_Rey = xgb.DMatrix(x_test_Rey)\n",
    "\n",
    "num_boost_rounds = 384 "
   ]
  },
  {
   "cell_type": "code",
   "execution_count": 549,
   "metadata": {
    "collapsed": false
   },
   "outputs": [],
   "source": [
    "model_Rey = xgb.train(dict(xgb_params, silent=0), dtrain_Rey, num_boost_round= num_boost_rounds)"
   ]
  },
  {
   "cell_type": "code",
   "execution_count": 550,
   "metadata": {
    "collapsed": true
   },
   "outputs": [],
   "source": [
    "y_predict_Rey = model_Rey.predict(dtest_Rey)"
   ]
  },
  {
   "cell_type": "code",
   "execution_count": 551,
   "metadata": {
    "collapsed": false
   },
   "outputs": [
    {
     "data": {
      "text/html": [
       "<div>\n",
       "<table border=\"1\" class=\"dataframe\">\n",
       "  <thead>\n",
       "    <tr style=\"text-align: right;\">\n",
       "      <th></th>\n",
       "      <th>id</th>\n",
       "      <th>price_doc</th>\n",
       "    </tr>\n",
       "  </thead>\n",
       "  <tbody>\n",
       "    <tr>\n",
       "      <th>0</th>\n",
       "      <td>30474</td>\n",
       "      <td>6029388.0</td>\n",
       "    </tr>\n",
       "    <tr>\n",
       "      <th>1</th>\n",
       "      <td>30475</td>\n",
       "      <td>8668324.0</td>\n",
       "    </tr>\n",
       "    <tr>\n",
       "      <th>2</th>\n",
       "      <td>30476</td>\n",
       "      <td>6212551.0</td>\n",
       "    </tr>\n",
       "    <tr>\n",
       "      <th>3</th>\n",
       "      <td>30477</td>\n",
       "      <td>6244068.5</td>\n",
       "    </tr>\n",
       "    <tr>\n",
       "      <th>4</th>\n",
       "      <td>30478</td>\n",
       "      <td>5177565.0</td>\n",
       "    </tr>\n",
       "  </tbody>\n",
       "</table>\n",
       "</div>"
      ],
      "text/plain": [
       "      id  price_doc\n",
       "0  30474  6029388.0\n",
       "1  30475  8668324.0\n",
       "2  30476  6212551.0\n",
       "3  30477  6244068.5\n",
       "4  30478  5177565.0"
      ]
     },
     "execution_count": 551,
     "metadata": {},
     "output_type": "execute_result"
    }
   ],
   "source": [
    "reynaldo_model_output = pd.DataFrame({'id': id_test, 'price_doc': y_predict_Rey})\n",
    "reynaldo_model_output.head()"
   ]
  },
  {
   "cell_type": "code",
   "execution_count": 552,
   "metadata": {
    "collapsed": false
   },
   "outputs": [
    {
     "data": {
      "text/plain": [
       "7417079.083887551"
      ]
     },
     "execution_count": 552,
     "metadata": {},
     "output_type": "execute_result"
    }
   ],
   "source": [
    "np.exp( reynaldo_model_output.price_doc.apply(np.log).mean() )"
   ]
  },
  {
   "cell_type": "markdown",
   "metadata": {},
   "source": [
    "# Bru's model"
   ]
  },
  {
   "cell_type": "code",
   "execution_count": 553,
   "metadata": {
    "collapsed": true
   },
   "outputs": [],
   "source": [
    "df_train = pd.read_csv(\"train.csv\", parse_dates=['timestamp'])\n",
    "df_test = pd.read_csv(\"test.csv\", parse_dates=['timestamp'])\n",
    "df_macro = pd.read_csv(\"macro.csv\", parse_dates=['timestamp'])"
   ]
  },
  {
   "cell_type": "code",
   "execution_count": 554,
   "metadata": {
    "collapsed": false
   },
   "outputs": [],
   "source": [
    "df_train = df_train.drop(bias_list_04)"
   ]
  },
  {
   "cell_type": "code",
   "execution_count": 555,
   "metadata": {
    "collapsed": false
   },
   "outputs": [
    {
     "data": {
      "text/plain": [
       "(27109, 292)"
      ]
     },
     "execution_count": 555,
     "metadata": {},
     "output_type": "execute_result"
    }
   ],
   "source": [
    "df_train.shape"
   ]
  },
  {
   "cell_type": "code",
   "execution_count": 556,
   "metadata": {
    "collapsed": false
   },
   "outputs": [
    {
     "name": "stdout",
     "output_type": "stream",
     "text": [
      "(34770, 390)\n",
      "(34770, 394)\n",
      "(34770, 394)\n"
     ]
    },
    {
     "data": {
      "text/html": [
       "<div>\n",
       "<table border=\"1\" class=\"dataframe\">\n",
       "  <thead>\n",
       "    <tr style=\"text-align: right;\">\n",
       "      <th></th>\n",
       "      <th>id</th>\n",
       "      <th>price_doc</th>\n",
       "    </tr>\n",
       "  </thead>\n",
       "  <tbody>\n",
       "    <tr>\n",
       "      <th>0</th>\n",
       "      <td>30474</td>\n",
       "      <td>6241105.5</td>\n",
       "    </tr>\n",
       "    <tr>\n",
       "      <th>1</th>\n",
       "      <td>30475</td>\n",
       "      <td>8585902.0</td>\n",
       "    </tr>\n",
       "    <tr>\n",
       "      <th>2</th>\n",
       "      <td>30476</td>\n",
       "      <td>6391162.0</td>\n",
       "    </tr>\n",
       "    <tr>\n",
       "      <th>3</th>\n",
       "      <td>30477</td>\n",
       "      <td>6369486.0</td>\n",
       "    </tr>\n",
       "    <tr>\n",
       "      <th>4</th>\n",
       "      <td>30478</td>\n",
       "      <td>5193106.0</td>\n",
       "    </tr>\n",
       "  </tbody>\n",
       "</table>\n",
       "</div>"
      ],
      "text/plain": [
       "      id  price_doc\n",
       "0  30474  6241105.5\n",
       "1  30475  8585902.0\n",
       "2  30476  6391162.0\n",
       "3  30477  6369486.0\n",
       "4  30478  5193106.0"
      ]
     },
     "execution_count": 556,
     "metadata": {},
     "output_type": "execute_result"
    }
   ],
   "source": [
    "\n",
    "\n",
    "df_train.drop(df_train[df_train[\"life_sq\"] > 7000].index, inplace=True)\n",
    "\n",
    "y_train_Bru = df_train['price_doc'].values\n",
    "id_test = df_test['id']\n",
    "\n",
    "df_train.drop(['id', 'price_doc'], axis=1, inplace=True)\n",
    "df_test.drop(['id'], axis=1, inplace=True)\n",
    "\n",
    "num_train = len(df_train)\n",
    "df_all = pd.concat([df_train, df_test])\n",
    "# Next line just adds a lot of NA columns (becuase \"join\" only works on indexes)\n",
    "# but somewhow it seems to affect the result\n",
    "df_all = df_all.join(df_macro, on='timestamp', rsuffix='_macro')\n",
    "print(df_all.shape)\n",
    "\n",
    "# Add month-year\n",
    "month_year = (df_all.timestamp.dt.month + df_all.timestamp.dt.year * 100)\n",
    "month_year_cnt_map = month_year.value_counts().to_dict()\n",
    "df_all['month_year_cnt'] = month_year.map(month_year_cnt_map)\n",
    "\n",
    "# Add week-year count\n",
    "week_year = (df_all.timestamp.dt.weekofyear + df_all.timestamp.dt.year * 100)\n",
    "week_year_cnt_map = week_year.value_counts().to_dict()\n",
    "df_all['week_year_cnt'] = week_year.map(week_year_cnt_map)\n",
    "\n",
    "# Add month and day-of-week\n",
    "df_all['month'] = df_all.timestamp.dt.month\n",
    "df_all['dow'] = df_all.timestamp.dt.dayofweek\n",
    "\n",
    "# Other feature engineering\n",
    "df_all['rel_floor'] = df_all['floor'] / df_all['max_floor'].astype(float)\n",
    "df_all['rel_kitch_sq'] = df_all['kitch_sq'] / df_all['full_sq'].astype(float)\n",
    "\n",
    "# Remove timestamp column (may overfit the model in train)\n",
    "df_all.drop(['timestamp', 'timestamp_macro'], axis=1, inplace=True)\n",
    "\n",
    "\n",
    "factorize = lambda t: pd.factorize(t[1])[0]\n",
    "\n",
    "df_obj = df_all.select_dtypes(include=['object'])\n",
    "\n",
    "X_all_Bru = np.c_[\n",
    "    df_all.select_dtypes(exclude=['object']).values,\n",
    "    np.array(list(map(factorize, df_obj.iteritems()))).T\n",
    "]\n",
    "print(X_all_Bru.shape)\n",
    "\n",
    "X_train_Bru = X_all_Bru[:num_train]\n",
    "X_test_Bru = X_all_Bru[num_train:]\n",
    "\n",
    "\n",
    "# Deal with categorical values\n",
    "df_numeric = df_all.select_dtypes(exclude=['object'])\n",
    "df_obj = df_all.select_dtypes(include=['object']).copy()\n",
    "\n",
    "for c in df_obj:\n",
    "    df_obj[c] = pd.factorize(df_obj[c])[0]\n",
    "\n",
    "df_values = pd.concat([df_numeric, df_obj], axis=1)\n",
    "\n",
    "\n",
    "# Convert to numpy values\n",
    "X_all_Bru = df_values.values\n",
    "print(X_all_Bru.shape)\n",
    "\n",
    "X_train_Bru = X_all_Bru[:num_train]\n",
    "X_test_Bru = X_all_Bru[num_train:]\n",
    "\n",
    "df_columns = df_values.columns\n",
    "\n",
    "\n",
    "xgb_params = {\n",
    "    'eta': 0.05,\n",
    "    'max_depth': 5,\n",
    "    'subsample': 0.7,\n",
    "    'colsample_bytree': 0.7,\n",
    "    'objective': 'reg:linear',\n",
    "    'eval_metric': 'rmse',\n",
    "    'silent': 1\n",
    "}\n",
    "\n",
    "dtrain_Bru = xgb.DMatrix(X_train_Bru, y_train_Bru, feature_names=df_columns)\n",
    "dtest_Bru = xgb.DMatrix(X_test_Bru, feature_names=df_columns)\n",
    "\n",
    "\n",
    "num_boost_round = 489  # From Bruno's original CV, I think\n",
    "model_Bru = xgb.train(dict(xgb_params, silent=0), dtrain_Bru, num_boost_round=num_boost_round)\n",
    "\n",
    "y_pred_Bru = model_Bru.predict(dtest_Bru)\n",
    "bruno_model_output = pd.DataFrame({'id': id_test, 'price_doc': y_pred_Bru})\n",
    "bruno_model_output.head()"
   ]
  },
  {
   "cell_type": "code",
   "execution_count": 557,
   "metadata": {
    "collapsed": false
   },
   "outputs": [
    {
     "data": {
      "text/plain": [
       "(7662, 394)"
      ]
     },
     "execution_count": 557,
     "metadata": {},
     "output_type": "execute_result"
    }
   ],
   "source": [
    "X_test_Bru.shape"
   ]
  },
  {
   "cell_type": "markdown",
   "metadata": {},
   "source": [
    "# Merge and Adjust Result"
   ]
  },
  {
   "cell_type": "code",
   "execution_count": 558,
   "metadata": {
    "collapsed": true
   },
   "outputs": [],
   "source": [
    "results = reynaldo_model_output.merge( \n",
    "             jason_model_output.merge(\n",
    "                 bruno_model_output, on='id', suffixes=['_jason','_bruno'] ), on='id' )\n",
    "results[\"price_doc_reynaldo\"] = results[\"price_doc\"]"
   ]
  },
  {
   "cell_type": "code",
   "execution_count": 559,
   "metadata": {
    "collapsed": false
   },
   "outputs": [
    {
     "data": {
      "text/html": [
       "<div>\n",
       "<table border=\"1\" class=\"dataframe\">\n",
       "  <thead>\n",
       "    <tr style=\"text-align: right;\">\n",
       "      <th></th>\n",
       "      <th>id</th>\n",
       "      <th>price_doc</th>\n",
       "      <th>price_doc_jason</th>\n",
       "      <th>price_doc_bruno</th>\n",
       "      <th>price_doc_reynaldo</th>\n",
       "    </tr>\n",
       "  </thead>\n",
       "  <tbody>\n",
       "    <tr>\n",
       "      <th>0</th>\n",
       "      <td>30474</td>\n",
       "      <td>6029388.0</td>\n",
       "      <td>6263240.0</td>\n",
       "      <td>6241105.5</td>\n",
       "      <td>6029388.0</td>\n",
       "    </tr>\n",
       "    <tr>\n",
       "      <th>1</th>\n",
       "      <td>30475</td>\n",
       "      <td>8668324.0</td>\n",
       "      <td>8377030.5</td>\n",
       "      <td>8585902.0</td>\n",
       "      <td>8668324.0</td>\n",
       "    </tr>\n",
       "    <tr>\n",
       "      <th>2</th>\n",
       "      <td>30476</td>\n",
       "      <td>6212551.0</td>\n",
       "      <td>6310842.5</td>\n",
       "      <td>6391162.0</td>\n",
       "      <td>6212551.0</td>\n",
       "    </tr>\n",
       "    <tr>\n",
       "      <th>3</th>\n",
       "      <td>30477</td>\n",
       "      <td>6244068.5</td>\n",
       "      <td>6305468.0</td>\n",
       "      <td>6369486.0</td>\n",
       "      <td>6244068.5</td>\n",
       "    </tr>\n",
       "    <tr>\n",
       "      <th>4</th>\n",
       "      <td>30478</td>\n",
       "      <td>5177565.0</td>\n",
       "      <td>5133986.0</td>\n",
       "      <td>5193106.0</td>\n",
       "      <td>5177565.0</td>\n",
       "    </tr>\n",
       "  </tbody>\n",
       "</table>\n",
       "</div>"
      ],
      "text/plain": [
       "      id  price_doc  price_doc_jason  price_doc_bruno  price_doc_reynaldo\n",
       "0  30474  6029388.0        6263240.0        6241105.5           6029388.0\n",
       "1  30475  8668324.0        8377030.5        8585902.0           8668324.0\n",
       "2  30476  6212551.0        6310842.5        6391162.0           6212551.0\n",
       "3  30477  6244068.5        6305468.0        6369486.0           6244068.5\n",
       "4  30478  5177565.0        5133986.0        5193106.0           5177565.0"
      ]
     },
     "execution_count": 559,
     "metadata": {},
     "output_type": "execute_result"
    }
   ],
   "source": [
    "results.head()"
   ]
  },
  {
   "cell_type": "code",
   "execution_count": 560,
   "metadata": {
    "collapsed": true
   },
   "outputs": [],
   "source": [
    "results[\"price_doc_reynaldo\"] = results[\"price_doc\"]"
   ]
  },
  {
   "cell_type": "code",
   "execution_count": 561,
   "metadata": {
    "collapsed": true
   },
   "outputs": [],
   "source": [
    "results[\"price_doc\"] = np.exp( np.log(results.price_doc_reynaldo)*reynaldo_weight +\n",
    "                               np.log(results.price_doc_jason)*jason_weight       +\n",
    "                               np.log(results.price_doc_bruno)*bruno_weight          )\n"
   ]
  },
  {
   "cell_type": "code",
   "execution_count": 562,
   "metadata": {
    "collapsed": false
   },
   "outputs": [
    {
     "data": {
      "text/html": [
       "<div>\n",
       "<table border=\"1\" class=\"dataframe\">\n",
       "  <thead>\n",
       "    <tr style=\"text-align: right;\">\n",
       "      <th></th>\n",
       "      <th>id</th>\n",
       "      <th>price_doc</th>\n",
       "      <th>price_doc_jason</th>\n",
       "      <th>price_doc_bruno</th>\n",
       "      <th>price_doc_reynaldo</th>\n",
       "    </tr>\n",
       "  </thead>\n",
       "  <tbody>\n",
       "    <tr>\n",
       "      <th>0</th>\n",
       "      <td>30474</td>\n",
       "      <td>6117535.5</td>\n",
       "      <td>6263240.0</td>\n",
       "      <td>6241105.5</td>\n",
       "      <td>6029388.0</td>\n",
       "    </tr>\n",
       "    <tr>\n",
       "      <th>1</th>\n",
       "      <td>30475</td>\n",
       "      <td>8592843.0</td>\n",
       "      <td>8377030.5</td>\n",
       "      <td>8585902.0</td>\n",
       "      <td>8668324.0</td>\n",
       "    </tr>\n",
       "    <tr>\n",
       "      <th>2</th>\n",
       "      <td>30476</td>\n",
       "      <td>6267520.0</td>\n",
       "      <td>6310842.5</td>\n",
       "      <td>6391162.0</td>\n",
       "      <td>6212551.0</td>\n",
       "    </tr>\n",
       "    <tr>\n",
       "      <th>3</th>\n",
       "      <td>30477</td>\n",
       "      <td>6281234.5</td>\n",
       "      <td>6305468.0</td>\n",
       "      <td>6369486.0</td>\n",
       "      <td>6244068.5</td>\n",
       "    </tr>\n",
       "    <tr>\n",
       "      <th>4</th>\n",
       "      <td>30478</td>\n",
       "      <td>5171920.0</td>\n",
       "      <td>5133986.0</td>\n",
       "      <td>5193106.0</td>\n",
       "      <td>5177565.0</td>\n",
       "    </tr>\n",
       "  </tbody>\n",
       "</table>\n",
       "</div>"
      ],
      "text/plain": [
       "      id  price_doc  price_doc_jason  price_doc_bruno  price_doc_reynaldo\n",
       "0  30474  6117535.5        6263240.0        6241105.5           6029388.0\n",
       "1  30475  8592843.0        8377030.5        8585902.0           8668324.0\n",
       "2  30476  6267520.0        6310842.5        6391162.0           6212551.0\n",
       "3  30477  6281234.5        6305468.0        6369486.0           6244068.5\n",
       "4  30478  5171920.0        5133986.0        5193106.0           5177565.0"
      ]
     },
     "execution_count": 562,
     "metadata": {},
     "output_type": "execute_result"
    }
   ],
   "source": [
    "results.head()"
   ]
  },
  {
   "cell_type": "code",
   "execution_count": 563,
   "metadata": {
    "collapsed": false
   },
   "outputs": [
    {
     "data": {
      "text/html": [
       "<div>\n",
       "<table border=\"1\" class=\"dataframe\">\n",
       "  <thead>\n",
       "    <tr style=\"text-align: right;\">\n",
       "      <th></th>\n",
       "      <th>id</th>\n",
       "      <th>price_doc</th>\n",
       "    </tr>\n",
       "  </thead>\n",
       "  <tbody>\n",
       "    <tr>\n",
       "      <th>0</th>\n",
       "      <td>30474</td>\n",
       "      <td>6117535.5</td>\n",
       "    </tr>\n",
       "    <tr>\n",
       "      <th>1</th>\n",
       "      <td>30475</td>\n",
       "      <td>8592843.0</td>\n",
       "    </tr>\n",
       "    <tr>\n",
       "      <th>2</th>\n",
       "      <td>30476</td>\n",
       "      <td>6267520.0</td>\n",
       "    </tr>\n",
       "    <tr>\n",
       "      <th>3</th>\n",
       "      <td>30477</td>\n",
       "      <td>6281234.5</td>\n",
       "    </tr>\n",
       "    <tr>\n",
       "      <th>4</th>\n",
       "      <td>30478</td>\n",
       "      <td>5171920.0</td>\n",
       "    </tr>\n",
       "  </tbody>\n",
       "</table>\n",
       "</div>"
      ],
      "text/plain": [
       "      id  price_doc\n",
       "0  30474  6117535.5\n",
       "1  30475  8592843.0\n",
       "2  30476  6267520.0\n",
       "3  30477  6281234.5\n",
       "4  30478  5171920.0"
      ]
     },
     "execution_count": 563,
     "metadata": {},
     "output_type": "execute_result"
    }
   ],
   "source": [
    "results.drop([\"price_doc_reynaldo\", \"price_doc_bruno\", \"price_doc_jason\"],axis=1,inplace=True)\n",
    "results.head()"
   ]
  },
  {
   "cell_type": "code",
   "execution_count": 564,
   "metadata": {
    "collapsed": false
   },
   "outputs": [],
   "source": [
    "def scale_miss(\n",
    "        alpha,\n",
    "        shifted_logs,\n",
    "        oldstd,\n",
    "        new_logmean\n",
    "        ):\n",
    "    newlogs = new_logmean + alpha*(shifted_logs - new_logmean)\n",
    "    newstd = np.std(np.exp(newlogs))\n",
    "    return (newstd-oldstd)**2\n",
    "    \n",
    "\n",
    "def shift_logmean_but_keep_scale(  # Or change the scale, but relative to the old scale\n",
    "        data,\n",
    "        new_logmean,\n",
    "        rescaler\n",
    "        ):\n",
    "    logdata = np.log(data)\n",
    "    oldstd = data.std()\n",
    "    shift = new_logmean - logdata.mean()\n",
    "    shifted_logs = logdata + shift\n",
    "    scale = sp.optimize.leastsq( scale_miss, 1, args=(shifted_logs, oldstd, new_logmean) )\n",
    "    alpha = scale[0][0]\n",
    "    newlogs = new_logmean + rescaler*alpha*(shifted_logs - new_logmean)\n",
    "    return np.exp(newlogs)"
   ]
  },
  {
   "cell_type": "code",
   "execution_count": 571,
   "metadata": {
    "collapsed": false
   },
   "outputs": [
    {
     "name": "stdout",
     "output_type": "stream",
     "text": [
      "(7662, 2)\n",
      "(7662, 298)\n"
     ]
    }
   ],
   "source": [
    "lnm = np.log(macro_mean)\n",
    "y_predict = shift_logmean_but_keep_scale( results.price_doc, lnm, micro_humility_factor )\n",
    "sub = pd.DataFrame({'id': id_test, 'price_doc': y_predict})\n",
    "print sub.shape\n",
    "print test_Jason.shape"
   ]
  },
  {
   "cell_type": "code",
   "execution_count": 572,
   "metadata": {
    "collapsed": false
   },
   "outputs": [],
   "source": [
    "sub.to_csv('test_04.csv', index=False)"
   ]
  },
  {
   "cell_type": "markdown",
   "metadata": {},
   "source": [
    "# Validation for Results adjustment"
   ]
  },
  {
   "cell_type": "code",
   "execution_count": 413,
   "metadata": {
    "collapsed": true
   },
   "outputs": [],
   "source": [
    "from sklearn.model_selection import train_test_split"
   ]
  },
  {
   "cell_type": "code",
   "execution_count": 414,
   "metadata": {
    "collapsed": false
   },
   "outputs": [],
   "source": [
    "#print x_train.shape, y_train.shape"
   ]
  },
  {
   "cell_type": "code",
   "execution_count": 415,
   "metadata": {
    "collapsed": false
   },
   "outputs": [],
   "source": [
    "#x_train.head()"
   ]
  },
  {
   "cell_type": "code",
   "execution_count": 416,
   "metadata": {
    "collapsed": true
   },
   "outputs": [],
   "source": [
    "#X_train_Jv, X_test_Jv, y_train_Jv, y_test_Jv = train_test_split(x_train, y_train, test_size=0.2)"
   ]
  },
  {
   "cell_type": "code",
   "execution_count": 417,
   "metadata": {
    "collapsed": false
   },
   "outputs": [],
   "source": [
    "#print X_train_Jv.shape, X_test_Jv.shape, y_train_Jv.shape, y_test_Jv.shape"
   ]
  },
  {
   "cell_type": "code",
   "execution_count": null,
   "metadata": {
    "collapsed": false
   },
   "outputs": [],
   "source": []
  },
  {
   "cell_type": "code",
   "execution_count": 418,
   "metadata": {
    "collapsed": false
   },
   "outputs": [],
   "source": [
    "#df_train[df_train[\"life_sq\"] > 7000].index   13546 must be deleted from Pick_Index\n",
    "#Pick_index = list(y_test_Jv.index)\n",
    "#if 13546 in Pick_index:\n",
    "    #print 'Ok'\n",
    "    #Pick_index.remove(13546)\n",
    "#test_v_id = train.id.loc[Pick_index]\n"
   ]
  },
  {
   "cell_type": "code",
   "execution_count": 419,
   "metadata": {
    "collapsed": false
   },
   "outputs": [],
   "source": [
    "#test_v_id.shape"
   ]
  },
  {
   "cell_type": "code",
   "execution_count": 420,
   "metadata": {
    "collapsed": false
   },
   "outputs": [],
   "source": [
    "#y_true = y_test_Jv.ix[Pick_index]\n",
    "#X_test_Jv = X_test_Jv.ix[Pick_index]"
   ]
  },
  {
   "cell_type": "code",
   "execution_count": 421,
   "metadata": {
    "collapsed": false
   },
   "outputs": [],
   "source": [
    "#y_true.shape"
   ]
  },
  {
   "cell_type": "code",
   "execution_count": 422,
   "metadata": {
    "collapsed": false
   },
   "outputs": [],
   "source": [
    "#dtest_Jv = xgb.DMatrix(X_test_Jv)"
   ]
  },
  {
   "cell_type": "code",
   "execution_count": 423,
   "metadata": {
    "collapsed": false
   },
   "outputs": [],
   "source": [
    "#y_pred_Jv = model.predict(dtest_Jv)"
   ]
  },
  {
   "cell_type": "code",
   "execution_count": 424,
   "metadata": {
    "collapsed": false
   },
   "outputs": [],
   "source": [
    "#Jv_output = pd.DataFrame({'id': test_v_id, 'price_doc': y_pred_Jv})"
   ]
  },
  {
   "cell_type": "code",
   "execution_count": 425,
   "metadata": {
    "collapsed": false
   },
   "outputs": [],
   "source": [
    "#Jv_output.shape"
   ]
  },
  {
   "cell_type": "code",
   "execution_count": 426,
   "metadata": {
    "collapsed": true
   },
   "outputs": [],
   "source": [
    "#X_test_Rv = x_train_Rey.ix[Pick_index]"
   ]
  },
  {
   "cell_type": "code",
   "execution_count": 427,
   "metadata": {
    "collapsed": false
   },
   "outputs": [],
   "source": [
    "#dtest_Rv = xgb.DMatrix(X_test_Rv)"
   ]
  },
  {
   "cell_type": "code",
   "execution_count": 428,
   "metadata": {
    "collapsed": false
   },
   "outputs": [],
   "source": [
    "#y_pred_Rv = model_Rey.predict(dtest_Rv)"
   ]
  },
  {
   "cell_type": "code",
   "execution_count": 429,
   "metadata": {
    "collapsed": false
   },
   "outputs": [],
   "source": [
    "#Rv_output = pd.DataFrame({'id': test_v_id, 'price_doc': y_pred_Rv})\n",
    "#Rv_output.head()"
   ]
  },
  {
   "cell_type": "code",
   "execution_count": 430,
   "metadata": {
    "collapsed": false
   },
   "outputs": [],
   "source": [
    "#X_train_Bru"
   ]
  },
  {
   "cell_type": "code",
   "execution_count": 431,
   "metadata": {
    "collapsed": true
   },
   "outputs": [],
   "source": [
    "#x_train_Bru = pd.DataFrame(X_train_Bru)"
   ]
  },
  {
   "cell_type": "code",
   "execution_count": 432,
   "metadata": {
    "collapsed": false
   },
   "outputs": [],
   "source": [
    "#X_test_Bv = x_train_Bru.ix[Pick_index]"
   ]
  },
  {
   "cell_type": "code",
   "execution_count": null,
   "metadata": {
    "collapsed": false
   },
   "outputs": [],
   "source": []
  },
  {
   "cell_type": "code",
   "execution_count": 433,
   "metadata": {
    "collapsed": false
   },
   "outputs": [],
   "source": [
    "#dtest_Bv = xgb.DMatrix(X_test_Bv,feature_names=df_columns)"
   ]
  },
  {
   "cell_type": "code",
   "execution_count": 434,
   "metadata": {
    "collapsed": false
   },
   "outputs": [],
   "source": [
    "#y_pred_Bv = model_Bru.predict(dtest_Bv)"
   ]
  },
  {
   "cell_type": "code",
   "execution_count": 435,
   "metadata": {
    "collapsed": false
   },
   "outputs": [],
   "source": [
    "#Bv_output = pd.DataFrame({'id': test_v_id, 'price_doc': y_pred_Bv})\n",
    "#Bv_output.head()"
   ]
  },
  {
   "cell_type": "code",
   "execution_count": 436,
   "metadata": {
    "collapsed": false
   },
   "outputs": [],
   "source": [
    "#print Rv_output.shape, Jv_output.shape, Bv_output.shape"
   ]
  },
  {
   "cell_type": "code",
   "execution_count": 437,
   "metadata": {
    "collapsed": false
   },
   "outputs": [],
   "source": [
    "#results_v = Rv_output.merge( \n",
    "             #Jv_output.merge(\n",
    "                # Bv_output, on='id', suffixes=['_jason','_bruno'] ), on='id' )\n",
    "#results_v[\"price_doc_reynaldo\"] = results_v[\"price_doc\"]"
   ]
  },
  {
   "cell_type": "code",
   "execution_count": 438,
   "metadata": {
    "collapsed": false
   },
   "outputs": [],
   "source": [
    "#results_v.head()"
   ]
  },
  {
   "cell_type": "code",
   "execution_count": 439,
   "metadata": {
    "collapsed": false
   },
   "outputs": [],
   "source": [
    "#results_v[\"price_doc\"] = np.exp( np.log(results_v.price_doc_reynaldo)*reynaldo_weight +\n",
    "                               #np.log(results_v.price_doc_jason)*jason_weight       +\n",
    "                               #np.log(results_v.price_doc_bruno)*bruno_weight          )"
   ]
  },
  {
   "cell_type": "code",
   "execution_count": 440,
   "metadata": {
    "collapsed": false
   },
   "outputs": [],
   "source": [
    "#results_v.drop([\"price_doc_reynaldo\", \"price_doc_bruno\", \"price_doc_jason\"],axis=1,inplace=True)\n",
    "#results_v.head()"
   ]
  },
  {
   "cell_type": "code",
   "execution_count": 441,
   "metadata": {
    "collapsed": false
   },
   "outputs": [],
   "source": [
    "#cv_p = p"
   ]
  },
  {
   "cell_type": "code",
   "execution_count": 442,
   "metadata": {
    "collapsed": false
   },
   "outputs": [],
   "source": [
    "#cv_p.head()"
   ]
  },
  {
   "cell_type": "code",
   "execution_count": 443,
   "metadata": {
    "collapsed": true
   },
   "outputs": [],
   "source": [
    "#cv_p['yearmonth'] = cv_p.index.values"
   ]
  },
  {
   "cell_type": "code",
   "execution_count": 444,
   "metadata": {
    "collapsed": false
   },
   "outputs": [],
   "source": [
    "#cv_p.columns= ['monthprice','yearmonth']"
   ]
  },
  {
   "cell_type": "code",
   "execution_count": 445,
   "metadata": {
    "collapsed": false
   },
   "outputs": [],
   "source": [
    "#cv_p.head()"
   ]
  },
  {
   "cell_type": "code",
   "execution_count": 446,
   "metadata": {
    "collapsed": true
   },
   "outputs": [],
   "source": [
    "#train_andy_v = train_andy[[\"yearmonth\",\"id\"]]"
   ]
  },
  {
   "cell_type": "code",
   "execution_count": 447,
   "metadata": {
    "collapsed": false
   },
   "outputs": [],
   "source": [
    "#train_andy_macro_= train_andy_v.merge(cv_p, on = 'yearmonth')"
   ]
  },
  {
   "cell_type": "code",
   "execution_count": 448,
   "metadata": {
    "collapsed": false
   },
   "outputs": [],
   "source": [
    "#train_andy_macro_v = train_andy_macro_.ix[Pick_index]"
   ]
  },
  {
   "cell_type": "code",
   "execution_count": 449,
   "metadata": {
    "collapsed": false
   },
   "outputs": [],
   "source": [
    "#train_andy_macro_v.shape"
   ]
  },
  {
   "cell_type": "code",
   "execution_count": 450,
   "metadata": {
    "collapsed": true
   },
   "outputs": [],
   "source": [
    "#macro_v_mean = np.exp(train_andy_macro_v.monthprice.apply(np.log).mean())"
   ]
  },
  {
   "cell_type": "code",
   "execution_count": 451,
   "metadata": {
    "collapsed": false
   },
   "outputs": [],
   "source": [
    "#macro_v_mean"
   ]
  },
  {
   "cell_type": "code",
   "execution_count": 452,
   "metadata": {
    "collapsed": true
   },
   "outputs": [],
   "source": [
    "#lnm_v = np.log(macro_v_mean)\n",
    "#y_predict_v = shift_logmean_but_keep_scale( results_v.price_doc, lnm_v, micro_humility_factor )\n",
    "\n"
   ]
  },
  {
   "cell_type": "code",
   "execution_count": 453,
   "metadata": {
    "collapsed": false
   },
   "outputs": [],
   "source": [
    "#print y_predict_v.shape, y_true.shape"
   ]
  },
  {
   "cell_type": "code",
   "execution_count": 454,
   "metadata": {
    "collapsed": true
   },
   "outputs": [],
   "source": [
    "#v_score = rmsle(y_true, y_predict_v)"
   ]
  },
  {
   "cell_type": "code",
   "execution_count": 455,
   "metadata": {
    "collapsed": false
   },
   "outputs": [],
   "source": [
    "#type(y_true)"
   ]
  },
  {
   "cell_type": "code",
   "execution_count": 456,
   "metadata": {
    "collapsed": false
   },
   "outputs": [],
   "source": [
    "#type(y_predict_v)"
   ]
  },
  {
   "cell_type": "code",
   "execution_count": 457,
   "metadata": {
    "collapsed": false
   },
   "outputs": [],
   "source": [
    "#y_true.head()"
   ]
  },
  {
   "cell_type": "code",
   "execution_count": 458,
   "metadata": {
    "collapsed": false
   },
   "outputs": [],
   "source": [
    "#y_predict_v.index = y_true.index.values"
   ]
  },
  {
   "cell_type": "code",
   "execution_count": 459,
   "metadata": {
    "collapsed": false
   },
   "outputs": [],
   "source": [
    "#y_predict_v.head()"
   ]
  },
  {
   "cell_type": "code",
   "execution_count": 460,
   "metadata": {
    "collapsed": false
   },
   "outputs": [],
   "source": [
    "#y_true.shape"
   ]
  },
  {
   "cell_type": "code",
   "execution_count": 461,
   "metadata": {
    "collapsed": false
   },
   "outputs": [],
   "source": [
    "#np.shape(y_true.loc[(abs(y_predict_v-y_true)/y_true)>0.4])"
   ]
  },
  {
   "cell_type": "code",
   "execution_count": null,
   "metadata": {
    "collapsed": false
   },
   "outputs": [],
   "source": []
  },
  {
   "cell_type": "code",
   "execution_count": 462,
   "metadata": {
    "collapsed": false
   },
   "outputs": [],
   "source": [
    "#A = y_true.loc[abs(y_predict_v-y_true)/y_true>0.4].index.values"
   ]
  },
  {
   "cell_type": "code",
   "execution_count": 463,
   "metadata": {
    "collapsed": false
   },
   "outputs": [],
   "source": [
    "#np.shape(A)"
   ]
  },
  {
   "cell_type": "code",
   "execution_count": 464,
   "metadata": {
    "collapsed": false
   },
   "outputs": [],
   "source": [
    "jason_weight = .2\n",
    "bruno_weight = .2\n",
    "reynaldo_weight = 1 - jason_weight - bruno_weight "
   ]
  },
  {
   "cell_type": "code",
   "execution_count": 465,
   "metadata": {
    "collapsed": false
   },
   "outputs": [
    {
     "name": "stdout",
     "output_type": "stream",
     "text": [
      "0.323767426814\n",
      "0.322811359477\n",
      "0.323250072372\n",
      "0.32489197723\n",
      "0.332298497125\n",
      "0.301912695764\n",
      "0.329347602453\n",
      "0.34151865406\n",
      "0.336478855254\n",
      "0.330848769964\n"
     ]
    }
   ],
   "source": [
    "import warnings\n",
    "warnings.filterwarnings('ignore')\n",
    "weight_val_score = []\n",
    "bias_list_04=[]\n",
    "cv_p = p\n",
    "cv_p['yearmonth'] = cv_p.index.values\n",
    "cv_p.columns= ['monthprice','yearmonth']\n",
    "train_andy_v = train_andy[[\"yearmonth\",\"id\"]]\n",
    "train_andy_macro_= train_andy_v.merge(cv_p, on = 'yearmonth')\n",
    "\n",
    "for i in xrange(10):\n",
    "    X_train_Jv, X_test_Jv, y_train_Jv, y_test_Jv = train_test_split(x_train, y_train, test_size=0.2)\n",
    "    Pick_index = list(y_test_Jv.index)\n",
    "    if 13546 in Pick_index:\n",
    "        Pick_index.remove(13546)\n",
    "    #Jason model\n",
    "    test_v_id = train_Jason.id.loc[Pick_index]\n",
    "    y_true = y_test_Jv.ix[Pick_index]\n",
    "    X_test_Jv = X_test_Jv.ix[Pick_index]\n",
    "    dtest_Jv = xgb.DMatrix(X_test_Jv)\n",
    "    y_pred_Jv = model.predict(dtest_Jv)\n",
    "    Jv_output = pd.DataFrame({'id': test_v_id, 'price_doc': y_pred_Jv})\n",
    "    #Rey model\n",
    "    X_test_Rv = x_train_Rey.ix[Pick_index]\n",
    "    dtest_Rv = xgb.DMatrix(X_test_Rv)\n",
    "    y_pred_Rv = model_Rey.predict(dtest_Rv)\n",
    "    Rv_output = pd.DataFrame({'id': test_v_id, 'price_doc': y_pred_Rv})\n",
    "    #Bru model\n",
    "    x_train_Bru = pd.DataFrame(X_train_Bru)\n",
    "    X_test_Bv = x_train_Bru.ix[Pick_index]\n",
    "    dtest_Bv = xgb.DMatrix(X_test_Bv,feature_names=df_columns)\n",
    "    y_pred_Bv = model_Bru.predict(dtest_Bv)\n",
    "    Bv_output = pd.DataFrame({'id': test_v_id, 'price_doc': y_pred_Bv})\n",
    "    results_v = Rv_output.merge( \n",
    "            Jv_output.merge(\n",
    "                 Bv_output, on='id', suffixes=['_jason','_bruno'] ), on='id' )\n",
    "    results_v[\"price_doc_reynaldo\"] = results_v[\"price_doc\"]\n",
    "    results_v[\"price_doc\"] = np.exp( np.log(results_v.price_doc_reynaldo)*reynaldo_weight +\n",
    "                               np.log(results_v.price_doc_jason)*jason_weight       +\n",
    "                               np.log(results_v.price_doc_bruno)*bruno_weight          )\n",
    "    results_v.drop([\"price_doc_reynaldo\", \"price_doc_bruno\", \"price_doc_jason\"],axis=1,inplace=True)\n",
    "    \n",
    "    train_andy_macro_v = train_andy_macro_.ix[Pick_index]\n",
    "    macro_v_mean = np.exp(train_andy_macro_v.monthprice.apply(np.log).mean())\n",
    "    lnm_v = np.log(macro_v_mean)\n",
    "    y_predict_v = shift_logmean_but_keep_scale( results_v.price_doc, lnm_v, micro_humility_factor )\n",
    "    v_score = rmsle(y_true, y_predict_v)\n",
    "    print v_score\n",
    "    weight_val_score.append(v_score)\n",
    "    y_predict_v.index = y_true.index.values\n",
    "    bad_index = y_true.loc[(abs(y_predict_v-y_true)/y_true)>0.8].index.values\n",
    "    bias_list_04.append(bad_index)\n",
    "    \n"
   ]
  },
  {
   "cell_type": "code",
   "execution_count": 466,
   "metadata": {
    "collapsed": false
   },
   "outputs": [],
   "source": [
    "run2 = np.mean(weight_val_score)"
   ]
  },
  {
   "cell_type": "code",
   "execution_count": 467,
   "metadata": {
    "collapsed": false
   },
   "outputs": [
    {
     "name": "stdout",
     "output_type": "stream",
     "text": [
      "0.326712591051\n"
     ]
    }
   ],
   "source": [
    "print run2"
   ]
  },
  {
   "cell_type": "code",
   "execution_count": 1211,
   "metadata": {
    "collapsed": false
   },
   "outputs": [
    {
     "data": {
      "text/plain": [
       "array([23253, 10484, 18879,  3945,  2775])"
      ]
     },
     "execution_count": 1211,
     "metadata": {},
     "output_type": "execute_result"
    }
   ],
   "source": [
    "bias_list_04[9][:5]"
   ]
  },
  {
   "cell_type": "code",
   "execution_count": 1212,
   "metadata": {
    "collapsed": false
   },
   "outputs": [
    {
     "data": {
      "text/plain": [
       "Int64Index([ 1015,  4118, 13764,  1424,  2707,  2537,  8941, 26361,  2406,\n",
       "             8291,\n",
       "            ...\n",
       "            25485, 26069,  3140, 20773,  8319, 20629, 27445, 26798,    28,\n",
       "             4002],\n",
       "           dtype='int64', length=6080)"
      ]
     },
     "execution_count": 1212,
     "metadata": {},
     "output_type": "execute_result"
    }
   ],
   "source": [
    "y_predict_v.index"
   ]
  },
  {
   "cell_type": "code",
   "execution_count": 1213,
   "metadata": {
    "collapsed": false
   },
   "outputs": [
    {
     "data": {
      "text/plain": [
       "1"
      ]
     },
     "execution_count": 1213,
     "metadata": {},
     "output_type": "execute_result"
    }
   ],
   "source": [
    "sum(pd.isnull(y_predict_v))"
   ]
  },
  {
   "cell_type": "code",
   "execution_count": 1214,
   "metadata": {
    "collapsed": true
   },
   "outputs": [],
   "source": [
    "andy_v = train_andy.ix[bias_list_04[9]]"
   ]
  },
  {
   "cell_type": "code",
   "execution_count": 1215,
   "metadata": {
    "collapsed": false
   },
   "outputs": [],
   "source": [
    "y_predict_v = y_predict_v.loc[andy_v.index.values]"
   ]
  },
  {
   "cell_type": "code",
   "execution_count": 1216,
   "metadata": {
    "collapsed": false
   },
   "outputs": [
    {
     "data": {
      "text/plain": [
       "(491,)"
      ]
     },
     "execution_count": 1216,
     "metadata": {},
     "output_type": "execute_result"
    }
   ],
   "source": [
    "y_predict_v.shape"
   ]
  },
  {
   "cell_type": "code",
   "execution_count": 1217,
   "metadata": {
    "collapsed": false
   },
   "outputs": [
    {
     "data": {
      "text/plain": [
       "0"
      ]
     },
     "execution_count": 1217,
     "metadata": {},
     "output_type": "execute_result"
    }
   ],
   "source": [
    "sum(pd.isnull(y_predict_v))"
   ]
  },
  {
   "cell_type": "code",
   "execution_count": 1218,
   "metadata": {
    "collapsed": false
   },
   "outputs": [],
   "source": [
    "andy_v['price_doc_pred'] = y_predict_v"
   ]
  },
  {
   "cell_type": "code",
   "execution_count": 1219,
   "metadata": {
    "collapsed": false
   },
   "outputs": [
    {
     "data": {
      "text/plain": [
       "(491, 296)"
      ]
     },
     "execution_count": 1219,
     "metadata": {},
     "output_type": "execute_result"
    }
   ],
   "source": [
    "andy_v.shape"
   ]
  },
  {
   "cell_type": "code",
   "execution_count": 1224,
   "metadata": {
    "collapsed": false
   },
   "outputs": [],
   "source": [
    "A = andy_v.index.values"
   ]
  },
  {
   "cell_type": "code",
   "execution_count": 1227,
   "metadata": {
    "collapsed": false
   },
   "outputs": [
    {
     "ename": "ValueError",
     "evalue": "fname must be a string or file handle",
     "output_type": "error",
     "traceback": [
      "\u001b[0;31m---------------------------------------------------------------------------\u001b[0m",
      "\u001b[0;31mValueError\u001b[0m                                Traceback (most recent call last)",
      "\u001b[0;32m<ipython-input-1227-3a1e232c4f52>\u001b[0m in \u001b[0;36m<module>\u001b[0;34m()\u001b[0m\n\u001b[0;32m----> 1\u001b[0;31m \u001b[0mnp\u001b[0m\u001b[0;34m.\u001b[0m\u001b[0msavetxt\u001b[0m\u001b[0;34m(\u001b[0m\u001b[0mA\u001b[0m\u001b[0;34m,\u001b[0m\u001b[0;34m\"bias_index\"\u001b[0m\u001b[0;34m)\u001b[0m\u001b[0;34m\u001b[0m\u001b[0m\n\u001b[0m",
      "\u001b[0;32m/Users/tianbaili/anaconda/lib/python2.7/site-packages/numpy/lib/npyio.pyc\u001b[0m in \u001b[0;36msavetxt\u001b[0;34m(fname, X, fmt, delimiter, newline, header, footer, comments)\u001b[0m\n\u001b[1;32m   1100\u001b[0m         \u001b[0mfh\u001b[0m \u001b[0;34m=\u001b[0m \u001b[0mfname\u001b[0m\u001b[0;34m\u001b[0m\u001b[0m\n\u001b[1;32m   1101\u001b[0m     \u001b[0;32melse\u001b[0m\u001b[0;34m:\u001b[0m\u001b[0;34m\u001b[0m\u001b[0m\n\u001b[0;32m-> 1102\u001b[0;31m         \u001b[0;32mraise\u001b[0m \u001b[0mValueError\u001b[0m\u001b[0;34m(\u001b[0m\u001b[0;34m'fname must be a string or file handle'\u001b[0m\u001b[0;34m)\u001b[0m\u001b[0;34m\u001b[0m\u001b[0m\n\u001b[0m\u001b[1;32m   1103\u001b[0m \u001b[0;34m\u001b[0m\u001b[0m\n\u001b[1;32m   1104\u001b[0m     \u001b[0;32mtry\u001b[0m\u001b[0;34m:\u001b[0m\u001b[0;34m\u001b[0m\u001b[0m\n",
      "\u001b[0;31mValueError\u001b[0m: fname must be a string or file handle"
     ]
    }
   ],
   "source": [
    "np.savetxt(A,\"bias_list_04\")"
   ]
  },
  {
   "cell_type": "code",
   "execution_count": 1222,
   "metadata": {
    "collapsed": false
   },
   "outputs": [
    {
     "data": {
      "text/plain": [
       "False    2394\n",
       "True       90\n",
       "Name: gdp_quart, dtype: int64"
      ]
     },
     "execution_count": 1222,
     "metadata": {},
     "output_type": "execute_result"
    }
   ],
   "source": [
    "pd.isnull(macro.gdp_quart).value_counts()"
   ]
  },
  {
   "cell_type": "code",
   "execution_count": 1223,
   "metadata": {
    "collapsed": false
   },
   "outputs": [
    {
     "data": {
      "text/plain": [
       "False    2453\n",
       "True       31\n",
       "Name: cpi, dtype: int64"
      ]
     },
     "execution_count": 1223,
     "metadata": {},
     "output_type": "execute_result"
    }
   ],
   "source": [
    "pd.isnull(macro.cpi).value_counts()"
   ]
  },
  {
   "cell_type": "code",
   "execution_count": null,
   "metadata": {
    "collapsed": true
   },
   "outputs": [],
   "source": [
    "test = pd.read_csv('old_test.csv')\n",
    "train = pd.read_csv('old_train.csv')\n",
    "result = pd.read_csv('best.csv')\n",
    "bad_index = train[train.life_sq > train.full_sq].index\n",
    "train.loc[bad_index, \"life_sq\"] = np.NaN\n",
    "equal_index = [601,1896,2791]\n",
    "test.loc[equal_index, \"life_sq\"] = test.loc[equal_index, \"full_sq\"]\n",
    "bad_index = test[test.life_sq > test.full_sq].index\n",
    "test.loc[bad_index, \"life_sq\"] = np.NaN\n",
    "bad_index = train[train.life_sq < 5].index\n",
    "train.loc[bad_index, \"life_sq\"] = np.NaN\n",
    "bad_index = test[test.life_sq < 5].index\n",
    "test.loc[bad_index, \"life_sq\"] = np.NaN\n",
    "\n",
    "test = test[['id','sub_area','life_sq']]\n",
    "test['price_doc'] = result.price_doc\n",
    "test['sub_area2'] = test.sub_area\n",
    "print sum(pd.isnull(train.life_sq))\n",
    "print train.shape\n",
    "subarea = {}\n",
    "area = list(train.sub_area.value_counts()[:100].index.values)\n",
    "for i in area:\n",
    "    subarea[i] = int(np.median(train['price_doc'][train.sub_area == i]))\n",
    "\n",
    "train1 = train.loc[train.life_sq.notnull()]\n",
    "train1 = train1.loc[train1.life_sq!=0]\n",
    "train1.sub_area.value_counts()[120]\n",
    "train1['price_persq'] = train1.price_doc/train1.life_sq\n",
    "\n",
    "subarea2 = {}\n",
    "area2 = list(train1.sub_area.value_counts()[:120].index.values)\n",
    "print len(area2)\n",
    "for i in area2:\n",
    "    subarea2[i] = int(np.median(train1['price_persq'][train1.sub_area == i]))\n",
    "\n",
    "test['sub_area'].replace(subarea, inplace=True)  \n",
    "test['sub_area2'].replace(subarea2,inplace=True)\n",
    "A = list(test.sub_area.value_counts().index.values[:60])\n",
    "print len(A)\n",
    "for i in xrange(len(test)):\n",
    "    if type(test.sub_area[i]) == int:\n",
    "        if test.price_doc[i]>test.sub_area[i]*3.5:\n",
    "            test.price_doc[i] = test.price_doc[i]*0.99\n",
    "        if test.price_doc[i]<test.sub_area[i]*0.6:\n",
    "            test.price_doc[i] = test.price_doc[i]*1.01\n",
    "\n",
    "# 3,0.9  , 0.2,1.1   best\n",
    "for i in xrange(len(test)):\n",
    "    if (type(test.sub_area2[i]) == int) & pd.notnull(test.life_sq[i]):\n",
    "        if test.price_doc[i]/test.life_sq[i]>test.sub_area2[i]*2.8:\n",
    "            test.price_doc[i] = test.price_doc[i]*0.95\n",
    "        if test.price_doc[i]/test.life_sq[i]<test.sub_area2[i]*0.3:\n",
    "            test.price_doc[i] = test.price_doc[i]*1.05\n",
    "\n",
    "test.drop(['sub_area','life_sq','sub_area2'],axis=1,inplace=True)\n",
    "test.to_csv(\"0627_5.csv\",index=False)"
   ]
  }
 ],
 "metadata": {
  "anaconda-cloud": {},
  "kernelspec": {
   "display_name": "Python [conda root]",
   "language": "python",
   "name": "conda-root-py"
  },
  "language_info": {
   "codemirror_mode": {
    "name": "ipython",
    "version": 2
   },
   "file_extension": ".py",
   "mimetype": "text/x-python",
   "name": "python",
   "nbconvert_exporter": "python",
   "pygments_lexer": "ipython2",
   "version": "2.7.12"
  }
 },
 "nbformat": 4,
 "nbformat_minor": 1
}
